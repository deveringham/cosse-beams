{
 "cells": [
  {
   "cell_type": "markdown",
   "id": "6fcf8eed",
   "metadata": {},
   "source": [
    "## Beam problem: Eigenvalue method"
   ]
  },
  {
   "cell_type": "markdown",
   "id": "7bdf0f0a",
   "metadata": {},
   "source": [
    "### Dependencies"
   ]
  },
  {
   "cell_type": "code",
   "execution_count": 8,
   "id": "d90b660b",
   "metadata": {},
   "outputs": [],
   "source": [
    "from meshes import *\n",
    "from Eigenvalues import *\n",
    "from get_S import *\n",
    "from get_M import *\n",
    "\n",
    "import matplotlib.pyplot as plt\n",
    "import numpy as np\n",
    "\n",
    "\n",
    "\"\"\"\n",
    "For the widgets to show up, do the following in the anaconda prompt:\n",
    "\n",
    "conda install -c conda-forge ipywidgets\n",
    "jupyter labextension install @jupyter-widgets/jupyterlab-manager\n",
    "\"\"\"\n",
    "import ipywidgets as widgets\n",
    "from IPython.display import display\n",
    "from ipywidgets import interact, interactive, fixed, interact_manual"
   ]
  },
  {
   "cell_type": "code",
   "execution_count": 9,
   "id": "010a57db",
   "metadata": {},
   "outputs": [
    {
     "data": {
      "image/png": "[encoded data removed]",
      "text/plain": [
       "<Figure size 432x36 with 1 Axes>"
      ]
     },
     "metadata": {
      "needs_background": "light"
     },
     "output_type": "display_data"
    }
   ],
   "source": [
    "# Spatial resolution of mesh\n",
    "N = 25\n",
    "\n",
    "# Right limit of mesh\n",
    "L = 1\n",
    "\n",
    "# Generate 1D mesh\n",
    "[nodes, elems, faces] = get_mesh_1D(N, [0,L], True);\n",
    "elems = np.array(elems)         # I believe there is one row too much in elems from get_mesh function"
   ]
  },
  {
   "cell_type": "code",
   "execution_count": 10,
   "id": "d01832b8",
   "metadata": {},
   "outputs": [],
   "source": [
    "E=1\n",
    "I=1\n",
    "mu_const = 1    # why do we multiply this to the mass matrix really?\n",
    "two_sided_support = True"
   ]
  },
  {
   "cell_type": "code",
   "execution_count": 19,
   "id": "ebc71637",
   "metadata": {
    "scrolled": false
   },
   "outputs": [],
   "source": [
    "# Get matrices\n",
    "M_ext = get_extended_M(nodes, elems, mu_const)\n",
    "S_ext = get_extended_S(nodes, elems, E, I, two_sided_support)\n",
    "M = get_M_global(nodes, elems, mu_const)\n",
    "\n",
    "# Create time array\n",
    "T = 10   # end time\n",
    "dt = 0.1 # time step size\n",
    "times = np.arange(0, T, dt)\n",
    "\n",
    "# Initial values\n",
    "w_init = np.ones(np.shape(M)[0])\n",
    "wp_init = np.ones(np.shape(M)[0])\n",
    "\n",
    "# FIXME: S_ext is singular, why?\n",
    "sol_eigen = Eigenvalues(w0=w_init, wp0=wp_init, M=M, Me=M_ext, Se=S_ext)\n",
    "\n",
    "w, mu = sol_eigen.solver(times)\n",
    "\n"
   ]
  }
 ],
 "metadata": {
  "@webio": {
   "lastCommId": null,
   "lastKernelId": null
  },
  "kernelspec": {
   "display_name": "Python 3",
   "language": "python",
   "name": "python3"
  },
  "language_info": {
   "codemirror_mode": {
    "name": "ipython",
    "version": 3
   },
   "file_extension": ".py",
   "mimetype": "text/x-python",
   "name": "python",
   "nbconvert_exporter": "python",
   "pygments_lexer": "ipython3",
   "version": "3.8.5"
  }
 },
 "nbformat": 4,
 "nbformat_minor": 5
}
