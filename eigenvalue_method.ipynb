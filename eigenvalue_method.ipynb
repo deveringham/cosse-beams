{
 "cells": [
  {
   "cell_type": "markdown",
   "id": "6fcf8eed",
   "metadata": {},
   "source": [
    "## Beam problem: Eigenvalue method"
   ]
  },
  {
   "cell_type": "markdown",
   "id": "7bdf0f0a",
   "metadata": {},
   "source": [
    "### Dependencies"
   ]
  },
  {
   "cell_type": "code",
   "execution_count": 8,
   "id": "d90b660b",
   "metadata": {},
   "outputs": [],
   "source": [
    "from meshes import *\n",
    "from Eigenvalues import *\n",
    "from get_S import *\n",
    "from get_M import *\n",
    "\n",
    "import matplotlib.pyplot as plt\n",
    "import numpy as np\n",
    "\n",
    "\n",
    "\"\"\"\n",
    "For the widgets to show up, do the following in the anaconda prompt:\n",
    "\n",
    "conda install -c conda-forge ipywidgets\n",
    "jupyter labextension install @jupyter-widgets/jupyterlab-manager\n",
    "\"\"\"\n",
    "import ipywidgets as widgets\n",
    "from IPython.display import display\n",
    "from ipywidgets import interact, interactive, fixed, interact_manual"
   ]
  },
  {
   "cell_type": "code",
   "execution_count": 9,
   "id": "010a57db",
   "metadata": {},
   "outputs": [
    {
     "data": {
      "image/png": "[encoded data removed]",
      "text/plain": [
       "<Figure size 432x36 with 1 Axes>"
      ]
     },
     "metadata": {
      "needs_background": "light"
     },
     "output_type": "display_data"
    }
   ],
   "source": [
    "# Spatial resolution of mesh\n",
    "N = 25\n",
    "\n",
    "# Right limit of mesh\n",
    "L = 1\n",
    "\n",
    "# Generate 1D mesh\n",
    "[nodes, elems, faces] = get_mesh_1D(N, [0,L], True);\n",
    "elems = np.array(elems)   "
   ]
  },
  {
   "cell_type": "code",
   "execution_count": 10,
   "id": "d01832b8",
   "metadata": {},
   "outputs": [],
   "source": [
    "E=1\n",
    "I=1\n",
    "mu_const = 1    \n",
    "two_sided_support = True"
   ]
  },
  {
   "cell_type": "code",
   "execution_count": 27,
   "id": "ebc71637",
   "metadata": {
    "scrolled": false
   },
   "outputs": [
    {
     "name": "stdout",
     "output_type": "stream",
     "text": [
      "[ 0.00000000e+00  0.00000000e+00  5.69747908e+01  1.07685108e+02\n",
      " -3.92624710e-01  2.68584566e+01 -3.72655938e-01  1.22823930e+01\n",
      "  1.50516388e-01 -6.82408191e+00  1.66241518e-01  4.26428660e+00\n",
      "  2.67429387e-01 -2.80055164e+00  1.48884325e-01  2.20152977e+00\n",
      "  1.65484383e-01 -2.28179189e+00 -1.95740683e-02  1.93045333e+00\n",
      " -1.05240003e-02  1.14842729e+00 -2.66961643e-01 -7.91622114e-01\n",
      " -5.59147082e-01 -1.94514833e-01  7.29581029e-01 -7.13085480e-01\n",
      "  1.47802440e-01  5.40693283e-01  1.01845528e-02 -1.51952856e-01\n",
      " -1.11421970e-02 -8.97537139e-02  1.07329689e-01  3.72950483e-01\n",
      " -5.20800221e-02  4.11144354e-01  1.35937915e-01 -3.26975926e-01\n",
      " -9.39362417e-02 -2.16477687e-01  8.86571558e-02 -1.09578115e-01\n",
      "  4.55182526e-02  1.64313267e-01 -1.43685251e-02  1.84883297e-01\n",
      " -1.07943872e-02 -1.81790456e-01]\n"
     ]
    }
   ],
   "source": [
    "# Get matrices\n",
    "M_ext = get_extended_M(nodes, elems, mu_const)\n",
    "S_ext = get_extended_S(nodes, elems, E, I, two_sided_support)\n",
    "M = get_M_global(nodes, elems, mu_const)\n",
    "\n",
    "# Create time array\n",
    "T = 10   # end time\n",
    "dt = 0.1 # time step size\n",
    "times = np.arange(0, T, dt)\n",
    "\n",
    "# Initial values\n",
    "w_init = np.ones(np.shape(M)[0])\n",
    "wp_init = np.ones(np.shape(M)[0])\n",
    "\n",
    "# Create solution object\n",
    "sol_eigen = Eigenvalues(w0=w_init, wp0=wp_init, M=M, Me=M_ext, Se=S_ext)\n",
    "\n",
    "# Get transient solutions (w[:, k] should be solution at time step k etc.) \n",
    "w, mu = sol_eigen.solver(times)\n",
    "\n",
    "print(w[:,0])\n"
   ]
  }
 ],
 "metadata": {
  "@webio": {
   "lastCommId": null,
   "lastKernelId": null
  },
  "kernelspec": {
   "display_name": "Python 3",
   "language": "python",
   "name": "python3"
  },
  "language_info": {
   "codemirror_mode": {
    "name": "ipython",
    "version": 3
   },
   "file_extension": ".py",
   "mimetype": "text/x-python",
   "name": "python",
   "nbconvert_exporter": "python",
   "pygments_lexer": "ipython3",
   "version": "3.8.5"
  }
 },
 "nbformat": 4,
 "nbformat_minor": 5
}
