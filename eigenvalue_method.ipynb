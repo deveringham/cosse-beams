{
 "cells": [
  {
   "cell_type": "markdown",
   "metadata": {},
   "source": [
    "## Beam problem: Eigenvalue method"
   ]
  },
  {
   "cell_type": "markdown",
   "metadata": {},
   "source": [
    "### Dependencies"
   ]
  },
  {
   "cell_type": "code",
   "execution_count": null,
   "metadata": {},
   "outputs": [],
   "source": [
    "from meshes import *\n",
    "from Eigenvalues import *\n",
    "from NumericalSolutions import *\n",
    "from DynamicSolutions import *\n",
    "\n",
    "import matplotlib.pyplot as plt\n",
    "import numpy as np\n",
    "\n",
    "\n",
    "\"\"\"\n",
    "For the widgets to show up, do the following in the anaconda prompt:\n",
    "\n",
    "conda install -c conda-forge ipywidgets\n",
    "jupyter labextension install @jupyter-widgets/jupyterlab-manager\n",
    "\"\"\"\n",
    "import ipywidgets as widgets\n",
    "from IPython.display import display\n",
    "from ipywidgets import interact, interactive, fixed, interact_manual"
   ]
  },
  {
   "cell_type": "code",
   "execution_count": null,
   "metadata": {},
   "outputs": [],
   "source": [
    "# Spatial resolution of mesh\n",
    "N = 50\n",
    "\n",
    "# Right limit of mesh\n",
    "L = 1\n",
    "\n",
    "# Generate 1D mesh\n",
    "[nodes, elems, faces] = get_mesh_1D(N, [0,L], True);\n",
    "elems = np.array(elems)   "
   ]
  },
  {
   "cell_type": "code",
   "execution_count": null,
   "metadata": {},
   "outputs": [],
   "source": [
    "E=1\n",
    "I=1\n",
    "mu_const = 1    \n",
    "two_sided_support = True"
   ]
  },
  {
   "cell_type": "code",
   "execution_count": null,
   "metadata": {},
   "outputs": [],
   "source": [
    "### ----- Problem parameters (only used for initial solution) ------ ###\n",
    "\n",
    "M0 = 0\n",
    "ML = 0\n",
    "QL = 0\n",
    "a0 = 0\n",
    "aL = 0\n",
    "a = 0\n",
    "b = 0\n",
    "q = 10"
   ]
  },
  {
   "cell_type": "code",
   "execution_count": null,
   "metadata": {},
   "outputs": [],
   "source": [
    "### ----- Get initial solution as solution to static problem ----- ###\n",
    "if two_sided_support:\n",
    "    \n",
    "    # Create dynamic solution object in order to calculate \n",
    "    # initial numercical solution, mass and stiffness matrices\n",
    "    initial_conditions = {\"ML\":ML, \"M0\":M0, \"a0\":a0, \"aL\":aL, \"q\":q}\n",
    "    sol_dyn = DynamicSolutionBothEnds(E=E, I=I, N=N, L=L, \n",
    "                      initial_conditions = initial_conditions,\n",
    "                      parameters = initial_conditions)\n",
    "    w_num, wp_num = sol_dyn.initial_object.solve()\n",
    "    M_ext = sol_dyn.M_ext\n",
    "    S_ext = sol_dyn.S_ext\n",
    "    \n",
    "\n",
    "else:\n",
    "    \n",
    "    # Create dynamic solution object in order to calculate \n",
    "    # initial numercical solution, mass and stiffness matrices\n",
    "    initial_conditions = {\"a\":a, \"b\":b, \"QL\":QL, \"ML\":ML, \"q\":q}\n",
    "    sol_dyn = DynamicSolutionCantilever(E=E, I=I, N=N, L=L, \n",
    "                      initial_conditions = initial_conditions,\n",
    "                      parameters = initial_conditions)\n",
    "    w_num, wp_num = sol_dyn.initial_object.solve()\n",
    "    M_ext = sol_dyn.M_ext\n",
    "    S_ext = sol_dyn.S_ext\n",
    "\n"
   ]
  },
  {
   "cell_type": "code",
   "execution_count": null,
   "metadata": {},
   "outputs": [],
   "source": [
    "# Create time array\n",
    "T = 10   # end time\n",
    "Nt = 200 # time step size\n",
    "times = np.linspace(0, T, Nt)\n",
    "\n",
    "# Initial values\n",
    "w_init = np.zeros(np.shape(M_ext[:-2,:-2])[0])\n",
    "wp_init = np.zeros(np.shape(M_ext[:-2,:-2])[0])\n",
    "\n",
    "# Create solution object\n",
    "sol_eigen = Eigenvalues(w0=np.ravel([w_num,wp_num],'F'), wp0=wp_init, Me=M_ext, Se=S_ext)\n",
    "M = sol_eigen.M\n",
    "\n",
    "# Get transient solutions (w[:, k] should be solution at time step k etc.) \n",
    "w, mu = sol_eigen.solver(times)\n"
   ]
  },
  {
   "cell_type": "code",
   "execution_count": null,
   "metadata": {},
   "outputs": [],
   "source": [
    "def sol_step(u, i):\n",
    "    \"\"\" \n",
    "    Function to separate derivative and solution \n",
    "    \"\"\"\n",
    "    u = u[:, i]\n",
    "    ux = u[::2]\n",
    "    \n",
    "    return ux"
   ]
  },
  {
   "cell_type": "code",
   "execution_count": null,
   "metadata": {},
   "outputs": [],
   "source": [
    "# get animations\n",
    "\n",
    "%matplotlib inline\n",
    "\n",
    "from matplotlib import animation, rc\n",
    "from IPython.display import HTML\n",
    "\n",
    "fig, ax = plt.subplots(figsize=(10,10))\n",
    "\n",
    "ax.set_xlim(( 0, 1.2))\n",
    "ax.set_ylim((-1,1))\n",
    "        \n",
    "line, = ax.plot([], [], lw=2)\n",
    "\n",
    "def init():\n",
    "    line.set_data([], [])\n",
    "    return (line,)\n",
    "\n",
    "def animate(i):\n",
    "    line.set_data(nodes, sol_step(w, i))\n",
    "    return (line,)\n",
    "\n",
    "anim = animation.FuncAnimation(fig, animate, init_func=init,\n",
    "                               frames=Nt, interval=10, \n",
    "                               blit=True)\n",
    "HTML(anim.to_jshtml())"
   ]
  },
  {
   "cell_type": "code",
   "execution_count": null,
   "metadata": {},
   "outputs": [],
   "source": [
    "def eigenvalues_analytical(k, two_sided_support):\n",
    "    # Input: no. of eigenvalues k and problem type\n",
    "    # Returns: array of k eigenvalues\n",
    "    \n",
    "    if two_sided_support:\n",
    "        kappa_j = lambda j: (j-0.5)*np.pi/L\n",
    "    else:\n",
    "        kappa_j = lambda j: j*np.pi/L\n",
    "        \n",
    "    return [(E*I)/mu_const*kappa_j(j)**4 for j in range(1,k+1)]"
   ]
  },
  {
   "cell_type": "code",
   "execution_count": null,
   "metadata": {},
   "outputs": [],
   "source": [
    "plt.figure(figsize=(9, 7))\n",
    "rg = 2*M.shape[0] - S_ext.shape[0]\n",
    "eigenvalues, eigenvectors = sol_eigen.get_eigen()\n",
    "\n",
    "plt.plot(np.arange(1,rg+1), 1/(np.sqrt(eigenvalues)),'r-.',label=r'numerical eigenfreq. $\\omega_k=1/\\sqrt{\\lambda_k}$')\n",
    "plt.plot(np.arange(1,rg+1), 1/(eigenvalues),'g-.',label=r'numerical eigenfreq. $\\omega_k=1/\\lambda_k$')\n",
    "plt.plot(np.arange(1,rg+1), eigenvalues_analytical(rg, two_sided_support), 'k-.', \n",
    "         label=r'analytical eigenfreq. $\\omega_k = \\frac{EI}{\\mu}\\kappa_j^4$')\n",
    "plt.xlabel('k',fontsize=19)\n",
    "plt.xlim(0,10)\n",
    "plt.ylim(0,1e4)\n",
    "plt.legend(prop={'size': 17})\n",
    "plt.show()"
   ]
  }
 ],
 "metadata": {
  "@webio": {
   "lastCommId": null,
   "lastKernelId": null
  },
  "kernelspec": {
   "display_name": "Python 3",
   "language": "python",
   "name": "python3"
  },
  "language_info": {
   "codemirror_mode": {
    "name": "ipython",
    "version": 3
   },
   "file_extension": ".py",
   "mimetype": "text/x-python",
   "name": "python",
   "nbconvert_exporter": "python",
   "pygments_lexer": "ipython3",
   "version": "3.7.1"
  }
 },
 "nbformat": 4,
 "nbformat_minor": 5
}
