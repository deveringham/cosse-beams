{
 "cells": [
  {
   "cell_type": "markdown",
   "id": "ed80d530",
   "metadata": {},
   "source": [
    "## Beam problem: Eigenvalue method"
   ]
  },
  {
   "cell_type": "markdown",
   "id": "21515cee",
   "metadata": {},
   "source": [
    "### Dependencies"
   ]
  },
  {
   "cell_type": "code",
   "execution_count": null,
   "id": "dd5f8923",
   "metadata": {},
   "outputs": [],
   "source": [
    "from meshes import *\n",
    "from Eigenvalues import *\n",
    "from NumericalSolutions import *\n",
    "from get_S import *\n",
    "from get_M import *\n",
    "\n",
    "import matplotlib.pyplot as plt\n",
    "import numpy as np\n",
    "import matplotlib.font_manager\n",
    "\n",
    "plt.style.use(\"standard.mplstyle\")\n",
    "\n",
    "\"\"\"\n",
    "For the widgets to show up, do the following in the anaconda prompt:\n",
    "\n",
    "conda install -c conda-forge ipywidgets\n",
    "jupyter labextension install @jupyter-widgets/jupyterlab-manager\n",
    "\"\"\"\n",
    "import ipywidgets as widgets\n",
    "from IPython.display import display\n",
    "from ipywidgets import interact, interactive, fixed, interact_manual"
   ]
  },
  {
   "cell_type": "code",
   "execution_count": null,
   "id": "0474d263",
   "metadata": {},
   "outputs": [],
   "source": [
    "# Spatial resolution of mesh\n",
    "N = 50\n",
    "\n",
    "# Right limit of mesh\n",
    "L = 1\n",
    "\n",
    "# Generate 1D mesh\n",
    "[nodes, elems, faces] = get_mesh_1D(N, [0,L], True);\n",
    "elems = np.array(elems)   "
   ]
  },
  {
   "cell_type": "code",
   "execution_count": null,
   "id": "36d8c412",
   "metadata": {},
   "outputs": [],
   "source": [
    "E=1\n",
    "I=1\n",
    "mu_const = 1    \n",
    "two_sided_support = False"
   ]
  },
  {
   "cell_type": "code",
   "execution_count": null,
   "id": "1fce8dd1",
   "metadata": {},
   "outputs": [],
   "source": [
    "### ----- Problem parameters (only used for initial solution) ------ ###\n",
    "\n",
    "M0 = 0\n",
    "ML = 0\n",
    "QL = 0\n",
    "a0 = 0\n",
    "aL = 0\n",
    "a = 0\n",
    "b = 0\n",
    "\n",
    "q = 1"
   ]
  },
  {
   "cell_type": "code",
   "execution_count": null,
   "id": "9207c29a",
   "metadata": {},
   "outputs": [],
   "source": [
    "### ----- Get initial solution as solution to static problem ----- ###\n",
    "if two_sided_support:\n",
    "    \n",
    "    boundary_conditions = {'M0': M0, 'ML': ML, 'a0': a0, 'aL': aL}\n",
    "\n",
    "    # Do numerical solution\n",
    "    sol_num = NumericalSolutionBothEnds(ML=ML, M0=M0, a0=a0, aL=aL, E=E, I=I, N=N, L=L, q=q)\n",
    "    w_num, wp_num = sol_num.solve()\n",
    "\n",
    "else:\n",
    "    \n",
    "    boundary_conditions = {'QL': QL, 'ML': ML, 'a': a, 'b': b}\n",
    "        \n",
    "    # Do numerical solution\n",
    "    sol_num = NumericalSolutionCantilever(a=a, b=b, QL=QL, ML=ML, E=E, I=I, N=N, L=L, q=q)\n",
    "    w_num, wp_num = sol_num.solve()"
   ]
  },
  {
   "cell_type": "code",
   "execution_count": null,
   "id": "86b68825",
   "metadata": {},
   "outputs": [],
   "source": [
    "# Get matrices for eigenvalue extraction\n",
    "M_ext = get_extended_M(nodes, elems, mu_const)\n",
    "S_ext = get_extended_S(nodes, elems, E, I, two_sided_support)\n",
    "M = get_M_global(nodes, elems, mu_const)\n",
    "\n",
    "# Create time array\n",
    "T = 10  # end time\n",
    "Nt = 100 # no. of time steps\n",
    "times = np.linspace(0, T, Nt)\n",
    "\n",
    "# Initial values\n",
    "w_init = np.zeros(np.shape(M)[0])\n",
    "wp_init = np.zeros(np.shape(M)[0])\n",
    "\n",
    "# Create solution object\n",
    "sol_eigen = Eigenvalues(w0=np.ravel([w_num,wp_num],'F'), wp0=wp_init, M=M, Me=M_ext, Se=S_ext)\n",
    "\n",
    "# Get vibration modes for w and mu\n",
    "vibration_modes_w, vibration_modes_mu = sol_eigen.solver(times)\n",
    "\n",
    "# solution is just the sum of all vibration modes\n",
    "u = np.sum(vibration_modes_w, axis=0)\n",
    "\n",
    "# Get transient solutions (w[:, k] is solution array at time step k etc.) \n",
    "w = u[:2*N, :][::2]\n",
    "\n",
    "# get space deriative of solution w\n",
    "wp = u[:2*N, :][1::2]\n",
    "\n",
    "# get mu\n",
    "mu = np.sum(vibration_modes_w, axis=0)"
   ]
  },
  {
   "cell_type": "code",
   "execution_count": null,
   "id": "14877429",
   "metadata": {
    "scrolled": false
   },
   "outputs": [],
   "source": [
    "# get animations\n",
    "\n",
    "%matplotlib inline\n",
    "\n",
    "from matplotlib import animation, rc\n",
    "from IPython.display import HTML\n",
    "\n",
    "fig, ax = plt.subplots(figsize=(10,10))\n",
    "\n",
    "ax.set_xlim(( 0, 1.2))\n",
    "ax.set_ylim((-1,1))\n",
    "\n",
    "line, = ax.plot([], [], lw=2)\n",
    "\n",
    "def init():\n",
    "    line.set_data([], [])\n",
    "    return (line,)\n",
    "\n",
    "def animate(i):\n",
    "    line.set_data(nodes, w[:, i])\n",
    "    return (line,)\n",
    "\n",
    "anim = animation.FuncAnimation(fig, animate, init_func=init,\n",
    "                               frames=Nt, interval=10, \n",
    "                               blit=True)\n",
    "HTML(anim.to_jshtml())"
   ]
  },
  {
   "cell_type": "code",
   "execution_count": null,
   "id": "116d38b8",
   "metadata": {},
   "outputs": [],
   "source": [
    "def eigenvalues_analytical(k, two_sided_support):\n",
    "    # Input: no. of eigenvalues k and problem type\n",
    "    # Returns: array of k eigenvalues\n",
    "    \n",
    "    if two_sided_support:\n",
    "        kappa_j = lambda j: (j-0.5)*np.pi/L\n",
    "    else:\n",
    "        kappa_j = lambda j: j*np.pi/L\n",
    "        \n",
    "    return [np.sqrt((E*I)/mu_const)*kappa_j(j)**2 for j in range(1,k+1)]"
   ]
  },
  {
   "cell_type": "code",
   "execution_count": null,
   "id": "2f266a8e",
   "metadata": {},
   "outputs": [],
   "source": [
    "plt.figure()\n",
    "rg = 2*M.shape[0] - S_ext.shape[0]\n",
    "eigenvalues, eigenvectors = sol_eigen.get_eigen()\n",
    "\n",
    "plt.plot(np.arange(1,rg+1), 1/(np.sqrt(eigenvalues)),'r-.',label=r'numerical eigenfreq. $\\omega_j=1/\\sqrt{\\lambda_j}$')\n",
    "plt.plot(np.arange(1,rg+1), eigenvalues_analytical(rg, two_sided_support), 'k-.', \n",
    "         label=r'analytical eigenfreq. $\\omega_j = \\sqrt{\\frac{EI}{\\mu}}\\kappa_j^2$')\n",
    "plt.title(\"Eigenfrequencies\")\n",
    "plt.xlabel(r'$j$')\n",
    "plt.ylabel(r'$\\omega_j$')\n",
    "plt.legend(prop={'size': 13})\n",
    "#plt.show()\n",
    "#plt.savefig(\"./Report/eigenfrequencies.pdf\")"
   ]
  },
  {
   "cell_type": "code",
   "execution_count": null,
   "id": "f6a4a0b6",
   "metadata": {
    "scrolled": false
   },
   "outputs": [],
   "source": [
    "plt.figure(figsize=(10,5))\n",
    "current_time = 0\n",
    "for i in range(4):\n",
    "    # normalize each node\n",
    "    normalization = np.linalg.norm(vibration_modes_w[i][:, current_time][::2])\n",
    "    plt.plot(nodes, vibration_modes_w[i][:, current_time][::2]/normalization, '-o',label=r'mode %i' % (i+1) +\n",
    "             r', $\\omega=$ %.2f' % (1/(np.sqrt(eigenvalues[i]))))\n",
    "    \n",
    "plt.legend()\n",
    "plt.title(r'Mode shapes: cantilever')\n",
    "plt.xlabel(r'Domain ($\\Omega$)')\n",
    "plt.ylabel(r'Deflection ($w$)')\n",
    "#plt.savefig(\"./Report/vibration_modes_cantilever.pdf\")"
   ]
  },
  {
   "cell_type": "markdown",
   "id": "ec392d8c",
   "metadata": {},
   "source": [
    "## Animation vibration modes"
   ]
  },
  {
   "cell_type": "code",
   "execution_count": null,
   "id": "1450016a",
   "metadata": {
    "scrolled": false
   },
   "outputs": [],
   "source": [
    "matplotlib.use('Agg')\n",
    "\n",
    "fig = plt.figure(figsize=(10,5))\n",
    "\n",
    "ax = plt.axes(xlim=(0, 1.2), ylim=(-0.3, 0.3))\n",
    "ax.set_title('Time dependency of vibration modes')\n",
    "ax.set_xlabel(r'Domain ($\\Omega$)')\n",
    "ax.set_ylabel(r'Deflection ($w$)')\n",
    "\n",
    "k = 5\n",
    "lines = [plt.plot([], [],'-o', label='mode %i' % i)[0] for i in range(k)] #lines to animate\n",
    "ax.legend(loc='lower right')\n",
    "\n",
    "def init():\n",
    "    #init lines\n",
    "    for line in lines:\n",
    "        line.set_data([], [])\n",
    "\n",
    "    return lines\n",
    "\n",
    "def animate(i):\n",
    "    #animate lines\n",
    "    for j,line in enumerate(lines):\n",
    "        line.set_data(nodes, vibration_modes_w[j][:, i][::2]/(np.linalg.norm(vibration_modes_w[j][:, 0][::2])))\n",
    "\n",
    "    return lines #return everything that must be updated\n",
    "\n",
    "anim = animation.FuncAnimation(fig, animate, init_func=init,\n",
    "                               frames=Nt, interval=20, blit=True)\n",
    "\n",
    "dpi = 200\n",
    "writer = animation.writers['ffmpeg'](fps=20)\n",
    "anim.save('./Report/animation_modes.mp4',writer=writer,dpi=dpi)"
   ]
  }
 ],
 "metadata": {
  "@webio": {
   "lastCommId": null,
   "lastKernelId": null
  },
  "kernelspec": {
   "display_name": "Python 3",
   "language": "python",
   "name": "python3"
  },
  "language_info": {
   "codemirror_mode": {
    "name": "ipython",
    "version": 3
   },
   "file_extension": ".py",
   "mimetype": "text/x-python",
   "name": "python",
   "nbconvert_exporter": "python",
   "pygments_lexer": "ipython3",
   "version": "3.8.8"
  }
 },
 "nbformat": 4,
 "nbformat_minor": 5
}
