{
 "cells": [
  {
   "cell_type": "markdown",
   "metadata": {},
   "source": [
    "# Project Numerical Analysis: 'Beams and Frameworks of Beams'"
   ]
  },
  {
   "cell_type": "markdown",
   "metadata": {},
   "source": [
    "### Dependencies"
   ]
  },
  {
   "cell_type": "code",
   "execution_count": 1,
   "metadata": {},
   "outputs": [],
   "source": [
    "from meshes import *\n",
    "from get_S import get_extended_q_vector, get_extended_S\n",
    "\n",
    "from scipy.sparse.linalg import spsolve\n",
    "import matplotlib.pyplot as plt\n",
    "import numpy as np"
   ]
  },
  {
   "cell_type": "markdown",
   "metadata": {},
   "source": [
    "### Generate Mesh"
   ]
  },
  {
   "cell_type": "code",
   "execution_count": 2,
   "metadata": {},
   "outputs": [
    {
     "data": {
      "image/png": "[encoded data removed]",
      "text/plain": [
       "<Figure size 432x36 with 1 Axes>"
      ]
     },
     "metadata": {
      "needs_background": "light"
     },
     "output_type": "display_data"
    }
   ],
   "source": [
    "# Spatial resolution of mesh\n",
    "N = 200\n",
    "\n",
    "# Right limit of mesh\n",
    "L = 10\n",
    "\n",
    "# Generate 1D mesh\n",
    "[nodes, elems, faces] = get_mesh_1D(N, [0,L], True);\n",
    "elems = np.array(elems)[:-1,:]          # I believe there is one row too much in elems from get_mesh function"
   ]
  },
  {
   "cell_type": "code",
   "execution_count": 3,
   "metadata": {},
   "outputs": [],
   "source": [
    "# Define some parameters, E, I, and q can also be lambda functions \n",
    "E = 1\n",
    "I = 1\n",
    "q = lambda x: x-4\n",
    "\n",
    "# boundary conditions\n",
    "QL = 0\n",
    "M0 = 0\n",
    "ML = 0\n",
    "a  = 0\n",
    "b  = 0\n",
    "a0 = 0\n",
    "aL = 0\n",
    "\n",
    "# choose whether the beam is supported at both ends or only at the left end\n",
    "two_sided_support = True\n",
    "\n",
    "\n",
    "if two_sided_support:\n",
    "    boundary_conditions = {'M0': M0, 'ML': ML, 'a0': a0, 'aL': aL}\n",
    "else:\n",
    "    boundary_conditions = {'QL': QL, 'ML': ML, 'a': a, 'b': b}"
   ]
  },
  {
   "cell_type": "code",
   "execution_count": 4,
   "metadata": {},
   "outputs": [
    {
     "name": "stderr",
     "output_type": "stream",
     "text": [
      "C:\\Users\\sergi\\anaconda3\\lib\\site-packages\\scipy\\sparse\\_index.py:82: SparseEfficiencyWarning: Changing the sparsity structure of a csr_matrix is expensive. lil_matrix is more efficient.\n",
      "  self._set_intXint(row, col, x.flat[0])\n"
     ]
    }
   ],
   "source": [
    "S_ext = get_extended_S(nodes, elems, E, I, two_sided_support)\n",
    "rhs = get_extended_q_vector(nodes, elems, q, boundary_conditions, two_sided_support)    "
   ]
  },
  {
   "cell_type": "code",
   "execution_count": 5,
   "metadata": {},
   "outputs": [],
   "source": [
    "solution = spsolve(S_ext, rhs)\n",
    "w = solution[:-2]\n",
    "Q0 = solution[-2]\n",
    "QL = solution[-1]"
   ]
  },
  {
   "cell_type": "code",
   "execution_count": 6,
   "metadata": {},
   "outputs": [
    {
     "name": "stdout",
     "output_type": "stream",
     "text": [
      "[[ 94567.188  47283.594 -94567.188 ...      0.         1.         0.   ]\n",
      " [ 47283.594  31522.396 -47283.594 ...      0.         0.         0.   ]\n",
      " [-94567.188 -47283.594 189134.376 ...      0.         0.         0.   ]\n",
      " ...\n",
      " [     0.         0.         0.    ...  31522.396      0.         0.   ]\n",
      " [     1.         0.         0.    ...      0.         0.         0.   ]\n",
      " [     0.         0.         0.    ...      0.         0.         0.   ]]\n"
     ]
    }
   ],
   "source": [
    "with np.printoptions(precision=3, suppress=True):\n",
    "    print(S_ext.toarray())"
   ]
  },
  {
   "cell_type": "code",
   "execution_count": 7,
   "metadata": {},
   "outputs": [
    {
     "data": {
      "text/plain": [
       "[<matplotlib.lines.Line2D at 0x212ff97d070>]"
      ]
     },
     "execution_count": 7,
     "metadata": {},
     "output_type": "execute_result"
    },
    {
     "data": {
      "image/png": "[encoded data removed]",
      "text/plain": [
       "<Figure size 432x288 with 1 Axes>"
      ]
     },
     "metadata": {
      "needs_background": "light"
     },
     "output_type": "display_data"
    }
   ],
   "source": [
    "#plot solution from odd w values\n",
    "plt.plot(nodes,w[::2])"
   ]
  },
  {
   "cell_type": "code",
   "execution_count": 8,
   "metadata": {},
   "outputs": [
    {
     "data": {
      "text/plain": [
       "[<matplotlib.lines.Line2D at 0x212ff9d1df0>]"
      ]
     },
     "execution_count": 8,
     "metadata": {},
     "output_type": "execute_result"
    },
    {
     "data": {
      "image/png": "[encoded data removed]",
      "text/plain": [
       "<Figure size 432x288 with 1 Axes>"
      ]
     },
     "metadata": {
      "needs_background": "light"
     },
     "output_type": "display_data"
    }
   ],
   "source": [
    "#plot derivative from even w values\n",
    "plt.plot(nodes,w[1::2])"
   ]
  },
  {
   "cell_type": "code",
   "execution_count": 12,
   "metadata": {},
   "outputs": [
    {
     "data": {
      "application/vnd.jupyter.widget-view+json": {
       "model_id": "394086847021413fb7f55bc333cdf168",
       "version_major": 2,
       "version_minor": 0
      },
      "text/plain": [
       "interactive(children=(FloatSlider(value=0.0, description='a', max=20.0, min=-20.0), FloatSlider(value=0.0, des…"
      ]
     },
     "metadata": {},
     "output_type": "display_data"
    }
   ],
   "source": [
    "import ipywidgets as widgets\n",
    "from IPython.display import display\n",
    "from ipywidgets import interact, interactive, fixed, interact_manual\n",
    "\n",
    "import matplotlib.pyplot as plt\n",
    "\n",
    "import numpy as np\n",
    "from AnalyticalSolutions import Cantilever\n",
    "\n",
    "xx = np.linspace(0,5,100)\n",
    "\n",
    "\n",
    "def f(a, b, QL, ML, x0, Load):\n",
    "    \n",
    "    ex = Cantilever(a,b,QL,ML,x0,Load)\n",
    "    sol =  ex.get_solution(xx)\n",
    "    plt.plot(xx, sol)\n",
    "\n",
    "interact(f, a=(-20.0,20.0), b=(-5.0,5.0), QL=(-2.0,2.0), ML=(-2.0,2.0), x0=(0.0, 5.0), Load=[\"delta\", \"constant\"])\n",
    "plt.show()"
   ]
  },
  {
   "cell_type": "code",
   "execution_count": 11,
   "metadata": {},
   "outputs": [
    {
     "data": {
      "application/vnd.jupyter.widget-view+json": {
       "model_id": "06dc07286ef9489ea4fb07b3b34eb391",
       "version_major": 2,
       "version_minor": 0
      },
      "text/plain": [
       "interactive(children=(FloatSlider(value=0.0, description='A1', max=20.0, min=-20.0), FloatSlider(value=0.0, de…"
      ]
     },
     "metadata": {},
     "output_type": "display_data"
    }
   ],
   "source": [
    "from AnalyticalSolutions import BothEnds\n",
    "\n",
    "xx = np.linspace(0,5,100)\n",
    "\n",
    "\n",
    "def f(A1, B1, A2, B2, x0, Load):\n",
    "    \n",
    "    ex = BothEnds(a,b,QL,ML,x0,Load)\n",
    "    sol =  ex.get_solution(xx)\n",
    "    plt.plot(xx, sol)\n",
    "\n",
    "interact(f, A1=(-20.0,20.0), B1=(-20.0,20.0), A2=(-20.0,20.0), B2=(-20.0,20.0), x0=(0.0, 5.0), Load=[\"delta\", \"constant\"])\n",
    "plt.show()"
   ]
  }
 ],
 "metadata": {
  "kernelspec": {
   "display_name": "Python 3",
   "language": "python",
   "name": "python3"
  },
  "language_info": {
   "codemirror_mode": {
    "name": "ipython",
    "version": 3
   },
   "file_extension": ".py",
   "mimetype": "text/x-python",
   "name": "python",
   "nbconvert_exporter": "python",
   "pygments_lexer": "ipython3",
   "version": "3.8.3"
  }
 },
 "nbformat": 4,
 "nbformat_minor": 4
}
