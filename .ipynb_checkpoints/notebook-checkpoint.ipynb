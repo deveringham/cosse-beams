{
 "cells": [
  {
   "cell_type": "markdown",
   "metadata": {},
   "source": [
    "# Project Numerical Analysis: 'Beams and Frameworks of Beams'"
   ]
  },
  {
   "cell_type": "markdown",
   "metadata": {},
   "source": [
    "### Dependencies"
   ]
  },
  {
   "cell_type": "code",
   "execution_count": 1,
   "metadata": {},
   "outputs": [],
   "source": [
    "from meshes import *\n",
    "from get_S import get_extended_q_vector, get_extended_S\n",
    "\n",
    "from scipy.sparse.linalg import spsolve\n",
    "import matplotlib.pyplot as plt\n",
    "import numpy as np\n",
    "\n",
    "\n",
    "\"\"\"\n",
    "For the widgets to show up, do the following in the anaconda prompt:\n",
    "\n",
    "conda install -c conda-forge ipywidgets\n",
    "jupyter labextension install @jupyter-widgets/jupyterlab-manager\n",
    "\"\"\"\n",
    "import ipywidgets as widgets\n",
    "from IPython.display import display\n",
    "from ipywidgets import interact, interactive, fixed, interact_manual\n"
   ]
  },
  {
   "cell_type": "markdown",
   "metadata": {},
   "source": [
    "### Generate Mesh"
   ]
  },
  {
   "cell_type": "code",
   "execution_count": 2,
   "metadata": {},
   "outputs": [
    {
     "data": {
      "image/png": "[encoded data removed]",
      "text/plain": [
       "<Figure size 432x36 with 1 Axes>"
      ]
     },
     "metadata": {
      "needs_background": "light"
     },
     "output_type": "display_data"
    }
   ],
   "source": [
    "# Spatial resolution of mesh\n",
    "N = 20\n",
    "\n",
    "# Right limit of mesh\n",
    "L = 1\n",
    "\n",
    "# Generate 1D mesh\n",
    "[nodes, elems, faces] = get_mesh_1D(N, [0,L], True);\n",
    "elems = np.array(elems)[:-1,:]          # I believe there is one row too much in elems from get_mesh function"
   ]
  },
  {
   "cell_type": "code",
   "execution_count": 3,
   "metadata": {},
   "outputs": [],
   "source": [
    "# Define some parameters, E, I, and q can also be lambda functions \n",
    "\n",
    "E = 1\n",
    "I = 1\n",
    "\n",
    "from AnalyticalSolutions import *\n",
    "\n",
    "    \n",
    "def get_both(q=0,q1=0,q2=0,q3=0,q4=0,QL=0,M0=0,ML=0,a=0,b=0,a0=0,aL=0,two_sided_support=True):\n",
    "    \n",
    "    if two_sided_support:\n",
    "        \n",
    "        bothends = BothEnds(a0, M0, aL, ML, 0, \"constant\", c=q, E=E, I=I, L=L)\n",
    "        w_ana = bothends.get_solution()\n",
    "        wp_ana = bothends.get_solution_prime()\n",
    "        \n",
    "        boundary_conditions = {'M0': M0, 'ML': ML, 'a0': a0, 'aL': aL}\n",
    "        \n",
    "        # assemble matrix and vectors\n",
    "        S_ext = get_extended_S(nodes, elems, E, I, two_sided_support)\n",
    "        rhs = get_extended_q_vector(nodes, elems, q, boundary_conditions, two_sided_support)\n",
    "\n",
    "    else:\n",
    "        \n",
    "        cantilever = Cantilever(a, b, QL, ML, 0, \"constant\", E=E, I=I, c=q, L=L)\n",
    "        w_ana = cantilever.get_solution()\n",
    "        wp_ana = cantilever.get_solution_prime()\n",
    "        \n",
    "        boundary_conditions = {'QL': QL, 'ML': ML, 'a': a, 'b': b}\n",
    "    \n",
    "    \n",
    "    ### get FEM solutions\n",
    "            \n",
    "    # assemble matrix and vectors\n",
    "    S_ext = get_extended_S(nodes, elems, E, I, two_sided_support)\n",
    "    rhs = get_extended_q_vector(nodes, elems, q, boundary_conditions, two_sided_support)\n",
    "\n",
    "    # get FEM solution\n",
    "    solution = spsolve(S_ext, rhs)\n",
    "    w = solution[:-2]\n",
    "    # extract w\n",
    "    w_fem = w[::2]\n",
    "    # extract w'\n",
    "    wp_fem = w[1::2]\n",
    "        \n",
    "\n",
    "    return w_ana, wp_ana, w_fem, wp_fem"
   ]
  },
  {
   "cell_type": "code",
   "execution_count": 4,
   "metadata": {},
   "outputs": [
    {
     "ename": "NameError",
     "evalue": "name 'aL' is not defined",
     "output_type": "error",
     "traceback": [
      "\u001b[1;31m---------------------------------------------------------------------------\u001b[0m",
      "\u001b[1;31mNameError\u001b[0m                                 Traceback (most recent call last)",
      "\u001b[1;32m<ipython-input-4-f9c419c39af4>\u001b[0m in \u001b[0;36m<module>\u001b[1;34m\u001b[0m\n\u001b[0;32m     12\u001b[0m \u001b[1;32mfor\u001b[0m \u001b[0mQ\u001b[0m \u001b[1;32min\u001b[0m \u001b[0mQLlist\u001b[0m\u001b[1;33m:\u001b[0m\u001b[1;33m\u001b[0m\u001b[1;33m\u001b[0m\u001b[0m\n\u001b[0;32m     13\u001b[0m \u001b[1;33m\u001b[0m\u001b[0m\n\u001b[1;32m---> 14\u001b[1;33m     \u001b[0mw_ana\u001b[0m\u001b[1;33m,\u001b[0m \u001b[0mwp_ana\u001b[0m\u001b[1;33m,\u001b[0m \u001b[0mw_fem\u001b[0m\u001b[1;33m,\u001b[0m \u001b[0mwp_fem\u001b[0m \u001b[1;33m=\u001b[0m \u001b[0mget_both\u001b[0m\u001b[1;33m(\u001b[0m\u001b[0mQL\u001b[0m\u001b[1;33m=\u001b[0m\u001b[0mQ\u001b[0m\u001b[1;33m)\u001b[0m\u001b[1;33m\u001b[0m\u001b[1;33m\u001b[0m\u001b[0m\n\u001b[0m\u001b[0;32m     15\u001b[0m     \u001b[0mplt\u001b[0m\u001b[1;33m.\u001b[0m\u001b[0mplot\u001b[0m\u001b[1;33m(\u001b[0m\u001b[0mnodes\u001b[0m\u001b[1;33m,\u001b[0m\u001b[0mw_fem\u001b[0m\u001b[1;33m,\u001b[0m\u001b[1;34m'o-'\u001b[0m\u001b[1;33m,\u001b[0m\u001b[0mlabel\u001b[0m\u001b[1;33m=\u001b[0m\u001b[1;34mr'numerical solution for $Q^L=$ %i'\u001b[0m \u001b[1;33m%\u001b[0m \u001b[0mQ\u001b[0m\u001b[1;33m)\u001b[0m\u001b[1;33m\u001b[0m\u001b[1;33m\u001b[0m\u001b[0m\n\u001b[0;32m     16\u001b[0m     \u001b[0mplt\u001b[0m\u001b[1;33m.\u001b[0m\u001b[0mplot\u001b[0m\u001b[1;33m(\u001b[0m\u001b[0mnodes\u001b[0m\u001b[1;33m,\u001b[0m\u001b[0mw_ana\u001b[0m\u001b[1;33m(\u001b[0m\u001b[0mnodes\u001b[0m\u001b[1;33m)\u001b[0m\u001b[1;33m,\u001b[0m\u001b[0mlabel\u001b[0m\u001b[1;33m=\u001b[0m\u001b[1;34m'analytical solution'\u001b[0m\u001b[1;33m)\u001b[0m\u001b[1;33m\u001b[0m\u001b[1;33m\u001b[0m\u001b[0m\n",
      "\u001b[1;32m<ipython-input-3-9874e24498aa>\u001b[0m in \u001b[0;36mget_both\u001b[1;34m(q, q1, q2, q3, q4, QL, M0, ML, a, b, a0, L, two_sided_support)\u001b[0m\n\u001b[0;32m     11\u001b[0m     \u001b[1;32mif\u001b[0m \u001b[0mtwo_sided_support\u001b[0m\u001b[1;33m:\u001b[0m\u001b[1;33m\u001b[0m\u001b[1;33m\u001b[0m\u001b[0m\n\u001b[0;32m     12\u001b[0m \u001b[1;33m\u001b[0m\u001b[0m\n\u001b[1;32m---> 13\u001b[1;33m         \u001b[0mbothends\u001b[0m \u001b[1;33m=\u001b[0m \u001b[0mBothEnds\u001b[0m\u001b[1;33m(\u001b[0m\u001b[0ma0\u001b[0m\u001b[1;33m,\u001b[0m \u001b[0mM0\u001b[0m\u001b[1;33m,\u001b[0m \u001b[0maL\u001b[0m\u001b[1;33m,\u001b[0m \u001b[0mML\u001b[0m\u001b[1;33m,\u001b[0m \u001b[1;36m0\u001b[0m\u001b[1;33m,\u001b[0m \u001b[1;34m\"constant\"\u001b[0m\u001b[1;33m,\u001b[0m \u001b[0mc\u001b[0m\u001b[1;33m=\u001b[0m\u001b[0mq\u001b[0m\u001b[1;33m,\u001b[0m \u001b[0mE\u001b[0m\u001b[1;33m=\u001b[0m\u001b[0mE\u001b[0m\u001b[1;33m,\u001b[0m \u001b[0mI\u001b[0m\u001b[1;33m=\u001b[0m\u001b[0mI\u001b[0m\u001b[1;33m,\u001b[0m \u001b[0mL\u001b[0m\u001b[1;33m=\u001b[0m\u001b[0mL\u001b[0m\u001b[1;33m)\u001b[0m\u001b[1;33m\u001b[0m\u001b[1;33m\u001b[0m\u001b[0m\n\u001b[0m\u001b[0;32m     14\u001b[0m         \u001b[0mw_ana\u001b[0m \u001b[1;33m=\u001b[0m \u001b[0mbothends\u001b[0m\u001b[1;33m.\u001b[0m\u001b[0mget_solution\u001b[0m\u001b[1;33m(\u001b[0m\u001b[1;33m)\u001b[0m\u001b[1;33m\u001b[0m\u001b[1;33m\u001b[0m\u001b[0m\n\u001b[0;32m     15\u001b[0m         \u001b[0mwp_ana\u001b[0m \u001b[1;33m=\u001b[0m \u001b[0mbothends\u001b[0m\u001b[1;33m.\u001b[0m\u001b[0mget_solution_prime\u001b[0m\u001b[1;33m(\u001b[0m\u001b[1;33m)\u001b[0m\u001b[1;33m\u001b[0m\u001b[1;33m\u001b[0m\u001b[0m\n",
      "\u001b[1;31mNameError\u001b[0m: name 'aL' is not defined"
     ]
    },
    {
     "data": {
      "text/plain": [
       "<Figure size 2400x1200 with 0 Axes>"
      ]
     },
     "metadata": {},
     "output_type": "display_data"
    }
   ],
   "source": [
    "### PLOT w FOR q=0 AND DIFFERENT QL's (point loads)\n",
    "\n",
    "import warnings\n",
    "warnings.filterwarnings(\"ignore\")\n",
    "\n",
    "QLlist = range(5)\n",
    "ML = 0\n",
    "b = 0\n",
    "a = 0\n",
    "\n",
    "plt.figure(figsize=(12, 6), dpi=200)\n",
    "for Q in QLlist:    \n",
    "    \n",
    "    w_ana, wp_ana, w_fem, wp_fem = get_both(QL=Q)\n",
    "    plt.plot(nodes,w_fem,'o-',label=r'numerical solution for $Q^L=$ %i' % Q)\n",
    "    plt.plot(nodes,w_ana(nodes),label='analytical solution')\n",
    "    plt.legend(prop={'size': 14})\n",
    "    plt.ylabel(\"w(x)\",size=16)\n",
    "    plt.xlabel(\"x\",size=16)"
   ]
  },
  {
   "cell_type": "code",
   "execution_count": null,
   "metadata": {},
   "outputs": [],
   "source": [
    "### PLOT w' FOR q=0 AND DIFFERENT QL's (point loads)\n",
    "\n",
    "QLlist = range(5)\n",
    "ML = 0\n",
    "b = 0\n",
    "a = 0\n",
    "\n",
    "plt.figure(figsize=(12, 6), dpi=200)\n",
    "for Q in QLlist:    \n",
    "    \n",
    "    w_ana, wp_ana, w_fem, wp_fem = get_both(QL=Q)\n",
    "    plt.plot(nodes,wp_fem,'o-',label=r'numerical solution for $Q^L=$ %i' % Q)\n",
    "    plt.plot(nodes,wp_ana(nodes), label='analytical solution')\n",
    "    plt.legend(prop={'size': 12})\n",
    "    plt.ylabel(\"w(x)\",size=16)\n",
    "    plt.xlabel(\"x\",size=16)"
   ]
  },
  {
   "cell_type": "code",
   "execution_count": null,
   "metadata": {},
   "outputs": [],
   "source": [
    "### PLOT w FOR DIFFERENT CONSTANT q's \n",
    "\n",
    "qlist = range(5)\n",
    "ML = 0\n",
    "b = 0\n",
    "a = 0\n",
    "\n",
    "plt.figure(figsize=(12, 6), dpi=200)\n",
    "for q in qlist:    \n",
    "    \n",
    "    w_ana, wp_ana, w_fem, wp_fem = get_both(q,q1=lambda x: q*x, q2=lambda x: q*x**2/2, q3=lambda x: q*x**3/6, q4=lambda x: q*x**4/24)\n",
    "    plt.plot(nodes,w_fem,'o-',label=r'numerical solution for $q(x)=$ %i' % q)\n",
    "    plt.plot(nodes,w_ana(nodes),label='analytical solution')\n",
    "    plt.legend(prop={'size': 12})\n",
    "    plt.ylabel(\"w(x)\",size=16)\n",
    "    plt.xlabel(\"x\",size=16)"
   ]
  },
  {
   "cell_type": "code",
   "execution_count": null,
   "metadata": {},
   "outputs": [],
   "source": [
    "### PLOT w' FOR DIFFERENT CONSTANT q's \n",
    "\n",
    "qlist = range(5)\n",
    "ML = 0\n",
    "b = 0\n",
    "a = 0\n",
    "\n",
    "plt.figure(figsize=(12, 6), dpi=200)\n",
    "for q in qlist:    \n",
    "    \n",
    "    w_ana, wp_ana, w_fem, wp_fem = get_both(q,q1=lambda x: q*x, q2=lambda x: q*x**2/2, q3=lambda x: q*x**3/6, q4=lambda x: q*x**4/24)\n",
    "    plt.plot(nodes,wp_fem,'o-',label=r'numerical solution for $q(x)=$ %i' % q)\n",
    "    plt.plot(nodes,wp_ana(nodes),label='analytical solution')\n",
    "    plt.legend(prop={'size': 12})\n",
    "    plt.ylabel(\"w(x)\",size=16)\n",
    "    plt.xlabel(\"x\",size=16)"
   ]
  },
  {
   "cell_type": "code",
   "execution_count": null,
   "metadata": {},
   "outputs": [],
   "source": [
    "xx = np.linspace(0,L,100)\n",
    "\n",
    "q = lambda x: x\n",
    "\n",
    "def f(a, b, QL, ML, x0, Load, LoadConstant):\n",
    "    \n",
    "    ex = Cantilever(a,b,QL,ML,x0,Load, L=L, c=LoadConstant, q=lambda x:x)\n",
    "    ex.c = LoadConstant\n",
    "    sol =  ex.get_solution_list(xx)\n",
    "    plt.plot(xx, sol)\n",
    "\n",
    "interact(f, a=(-20.0,20.0), b=(-5.0,5.0), QL=(-2.0,2.0), ML=(-2.0,2.0), x0=(0.0, 5.0), Load=[\"constant\", \"delta\", \"arbitrary function\"], LoadConstant = (-15.0,15.0))\n",
    "plt.show()"
   ]
  },
  {
   "cell_type": "code",
   "execution_count": null,
   "metadata": {},
   "outputs": [],
   "source": [
    "from AnalyticalSolutions import BothEnds\n",
    "\n",
    "q = lambda x: x\n",
    "\n",
    "L = 2\n",
    "\n",
    "def g(A1, B1, A2, B2, x0, Load, LoadConstant):\n",
    "    \n",
    "    xx = np.linspace(0,L,100)\n",
    "    \n",
    "    ex = BothEnds(A1,B1,A2,B2,x0, Load, L=L, c=LoadConstant, q=q)\n",
    "    sol =  ex.get_solution_list(xx)\n",
    "    plt.plot(xx, sol)\n",
    "\n",
    "interact(g, A1=(-20.0,20.0), B1=(-20.0,20.0), A2=(-20.0,20.0), B2=(-20.0,20.0), x0=(0.0, 5.0), Load=[\"constant\", \"delta\", \"arbitrary function\"], LoadConstant = (-15.0,15.0))\n",
    "plt.show()"
   ]
  }
 ],
 "metadata": {
  "kernelspec": {
   "display_name": "Python 3",
   "language": "python",
   "name": "python3"
  },
  "language_info": {
   "codemirror_mode": {
    "name": "ipython",
    "version": 3
   },
   "file_extension": ".py",
   "mimetype": "text/x-python",
   "name": "python",
   "nbconvert_exporter": "python",
   "pygments_lexer": "ipython3",
   "version": "3.8.3"
  }
 },
 "nbformat": 4,
 "nbformat_minor": 4
}
