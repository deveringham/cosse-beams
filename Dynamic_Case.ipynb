{
 "cells": [
  {
   "cell_type": "code",
   "execution_count": null,
   "metadata": {},
   "outputs": [],
   "source": [
    "import numpy as np\n",
    "import matplotlib.pyplot as plt\n",
    "\n",
    "from scipy.sparse.linalg import spsolve\n",
    "import matplotlib.pyplot as plt\n",
    "import numpy as np\n",
    "\n",
    "from meshes import *\n",
    "from NumericalSolutions import *\n",
    "from DynamicSolutions import *"
   ]
  },
  {
   "cell_type": "code",
   "execution_count": null,
   "metadata": {},
   "outputs": [],
   "source": [
    "# Spatial resolution of mesh\n",
    "N = 25\n",
    "\n",
    "# Right limit of mesh\n",
    "L = 1\n",
    "\n",
    "# Generate 1D mesh\n",
    "[nodes, elems, faces] = get_mesh_1D(N, [0,L], True);"
   ]
  },
  {
   "cell_type": "code",
   "execution_count": null,
   "metadata": {},
   "outputs": [],
   "source": [
    "E = 1\n",
    "I = 1\n",
    "mu = 1"
   ]
  },
  {
   "cell_type": "code",
   "execution_count": null,
   "metadata": {},
   "outputs": [],
   "source": [
    "M0 = 0\n",
    "ML = 0\n",
    "QL = 0\n",
    "a0 = 0\n",
    "aL = 0\n",
    "a = 0\n",
    "b = 0\n",
    "q = 1\n",
    "two_sided_support = True\n",
    "h = 0.05"
   ]
  },
  {
   "cell_type": "code",
   "execution_count": null,
   "metadata": {},
   "outputs": [],
   "source": [
    "sol_dyn = DynamicSolutionBothEnds(E=E, I=I, N=N, L=L, h=h,\n",
    "                      initial_conditions = {\"ML\":ML, \"M0\":M0, \"a0\":a0, \"aL\":aL, \"q\":0},\n",
    "                      parameters = {\"ML\":ML, \"M0\":M0, \"a0\":0, \"aL\":5, \"q\":4})\n",
    "\n",
    "tsteps = 100\n",
    "results = sol_dyn.run(tsteps)"
   ]
  },
  {
   "cell_type": "code",
   "execution_count": null,
   "metadata": {},
   "outputs": [],
   "source": [
    "# get animations\n",
    "\n",
    "%matplotlib inline\n",
    "\n",
    "from matplotlib import animation, rc\n",
    "from IPython.display import HTML\n",
    "\n",
    "w = results[\"w\"]\n",
    "\n",
    "wmin = np.min(w)\n",
    "wmax = np.max(w)\n",
    "\n",
    "fig, ax = plt.subplots(figsize=(10,10))\n",
    "\n",
    "ax.set_xlim(( 0, L))\n",
    "ax.set_ylim((wmin - 0.05 , wmax + 0.05))\n",
    "#try: ax.set_ylim((np.min(-u[nsteps-1][:-2][::2])-0.5, np.max(u[nsteps-1][:-2][::2])+0.5))\n",
    "#except: ax.set_ylim((np.min(-solution), np.max(solution)))\n",
    "        \n",
    "line, = ax.plot([], [], lw=2)\n",
    "\n",
    "def init():\n",
    "    line.set_data([], [])\n",
    "    return (line,)\n",
    "\n",
    "def animate(i):\n",
    "    line.set_data(nodes, w[i])\n",
    "    return (line,)\n",
    "\n",
    "anim = animation.FuncAnimation(fig, animate, init_func=init,\n",
    "                               frames=tsteps, interval=50, \n",
    "                               blit=True)\n",
    "HTML(anim.to_jshtml())"
   ]
  },
  {
   "cell_type": "code",
   "execution_count": null,
   "metadata": {},
   "outputs": [],
   "source": []
  }
 ],
 "metadata": {
  "kernelspec": {
   "display_name": "Python 3",
   "language": "python",
   "name": "python3"
  },
  "language_info": {
   "codemirror_mode": {
    "name": "ipython",
    "version": 3
   },
   "file_extension": ".py",
   "mimetype": "text/x-python",
   "name": "python",
   "nbconvert_exporter": "python",
   "pygments_lexer": "ipython3",
   "version": "3.7.1"
  }
 },
 "nbformat": 4,
 "nbformat_minor": 4
}
