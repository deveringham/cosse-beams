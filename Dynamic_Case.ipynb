{
 "cells": [
  {
   "cell_type": "code",
   "execution_count": 1,
   "metadata": {},
   "outputs": [],
   "source": [
    "import numpy as np\n",
    "import matplotlib.pyplot as plt\n",
    "\n",
    "from scipy.sparse.linalg import spsolve\n",
    "import matplotlib.pyplot as plt\n",
    "import numpy as np\n",
    "\n",
    "from meshes import *\n",
    "\n",
    "from NumericalSolutions import *\n",
    "from DynamicSolutions import *"
   ]
  },
  {
   "cell_type": "code",
   "execution_count": 2,
   "metadata": {},
   "outputs": [
    {
     "data": {
      "image/png": "[encoded data removed]",
      "text/plain": [
       "<Figure size 432x36 with 1 Axes>"
      ]
     },
     "metadata": {
      "needs_background": "light"
     },
     "output_type": "display_data"
    }
   ],
   "source": [
    "# Spatial resolution of mesh\n",
    "N = 25\n",
    "\n",
    "# Right limit of mesh\n",
    "L = 1\n",
    "\n",
    "# Generate 1D mesh\n",
    "[nodes, elems, faces] = get_mesh_1D(N, [0,L], True);\n",
    "elems = np.array(elems)[:-1,:]          # I believe there is one row too much in elems from get_mesh function"
   ]
  },
  {
   "cell_type": "code",
   "execution_count": 3,
   "metadata": {},
   "outputs": [],
   "source": [
    "E=1\n",
    "I=1\n",
    "mu = 1"
   ]
  },
  {
   "cell_type": "code",
   "execution_count": 4,
   "metadata": {},
   "outputs": [],
   "source": [
    "M0 = 0\n",
    "ML = 0\n",
    "QL = 0\n",
    "a0 = 0\n",
    "aL = 0\n",
    "a = 0\n",
    "b = 0\n",
    "\n",
    "q = 1\n",
    "\n",
    "two_sided_support = True \n",
    "\n",
    "if two_sided_support:\n",
    "    boundary_conditions = {'M0': M0, 'ML': ML, 'a0': a0, 'aL': aL}\n",
    "else:\n",
    "    boundary_conditions = {'QL': QL, 'ML': ML, 'a': a, 'b': b}"
   ]
  },
  {
   "cell_type": "code",
   "execution_count": 5,
   "metadata": {},
   "outputs": [
    {
     "data": {
      "text/plain": [
       "(array([ 0.00000000e+00,  7.84064809e-01,  3.25714074e-02,  7.77039445e-01,\n",
       "         6.45641626e-02,  7.56398841e-01,  9.54250934e-02,  7.22833358e-01,\n",
       "         1.24631288e-01,  6.77100247e-01,  1.51691823e-01,  6.19971884e-01,\n",
       "         1.76148982e-01,  5.52295849e-01,  1.97584997e-01,  4.75160679e-01,\n",
       "         2.15632617e-01,  3.89889030e-01,  2.29983551e-01,  2.97986079e-01,\n",
       "         2.40396524e-01,  2.01175281e-01,  2.46705850e-01,  1.01306800e-01,\n",
       "         2.48818858e-01, -2.65046023e-13,  2.46705850e-01, -1.01306800e-01,\n",
       "         2.40396524e-01, -2.01175281e-01,  2.29983551e-01, -2.97986079e-01,\n",
       "         2.15632617e-01, -3.89889030e-01,  1.97584997e-01, -4.75160679e-01,\n",
       "         1.76148982e-01, -5.52295849e-01,  1.51691823e-01, -6.19971884e-01,\n",
       "         1.24631288e-01, -6.77100247e-01,  9.54250934e-02, -7.22833358e-01,\n",
       "         6.45641626e-02, -7.56398841e-01,  3.25714074e-02, -7.77039445e-01,\n",
       "         0.00000000e+00, -7.84064809e-01,  8.22520196e+00, -8.22520196e+00]),\n",
       " array([ 0.00000000e+00, -1.35700398e+00, -5.67992173e-02, -1.37770609e+00,\n",
       "        -1.15171190e-01, -1.42600192e+00, -1.76268483e-01, -1.51234958e+00,\n",
       "        -2.40596381e-01, -1.56318131e+00, -3.05084103e-01, -1.52163362e+00,\n",
       "        -3.67020860e-01, -1.44708912e+00, -4.25340873e-01, -1.34938507e+00,\n",
       "        -4.78718001e-01, -1.19119692e+00, -5.22919234e-01, -9.20454005e-01,\n",
       "        -5.54504072e-01, -5.82566941e-01, -5.71418220e-01, -2.42209250e-01,\n",
       "        -5.76158809e-01, -2.19454191e-10, -5.71418220e-01,  2.42209250e-01,\n",
       "        -5.54504072e-01,  5.82566941e-01, -5.22919234e-01,  9.20454004e-01,\n",
       "        -4.78718001e-01,  1.19119692e+00, -4.25340873e-01,  1.34938507e+00,\n",
       "        -3.67020860e-01,  1.44708912e+00, -3.05084103e-01,  1.52163362e+00,\n",
       "        -2.40596381e-01,  1.56318131e+00, -1.76268483e-01,  1.51234959e+00,\n",
       "        -1.15171190e-01,  1.42600192e+00, -5.67992174e-02,  1.37770609e+00,\n",
       "         0.00000000e+00,  1.35700398e+00, -4.96612656e+01,  4.96612642e+01]),\n",
       " array([ 0.00000000e+00,  3.52074690e+01,  1.13264060e+00, -5.95415983e+01,\n",
       "        -2.01431595e-02, -3.60030183e+01, -7.43199357e-01,  2.67271812e+01,\n",
       "        -6.87866091e-01, -7.89260780e+00, -2.90968848e+00, -1.16788406e+02,\n",
       "        -7.00754883e+00, -6.31735932e+01, -9.60773025e+00, -5.51087730e+01,\n",
       "        -1.19406751e+01, -5.45426188e+01, -1.59952522e+01, -1.09626865e+02,\n",
       "        -1.47467405e+01,  1.52612867e+02, -1.03169004e+01,  4.10059665e+01,\n",
       "        -9.36798277e+00,  2.01012549e-06, -1.03169004e+01, -4.10059638e+01,\n",
       "        -1.47467405e+01, -1.52612865e+02, -1.59952523e+01,  1.09626871e+02,\n",
       "        -1.19406751e+01,  5.45426260e+01, -9.60773028e+00,  5.51087750e+01,\n",
       "        -7.00754878e+00,  6.31735931e+01, -2.90968850e+00,  1.16788407e+02,\n",
       "        -6.87866102e-01,  7.89260283e+00, -7.43199343e-01, -2.67271821e+01,\n",
       "        -2.01431669e-02,  3.60030208e+01,  1.13264062e+00,  5.95416001e+01,\n",
       "         0.00000000e+00, -3.52074705e+01, -2.41104418e+08,  2.41104419e+08]),\n",
       " 1.0000000000000007)"
      ]
     },
     "execution_count": 5,
     "metadata": {},
     "output_type": "execute_result"
    }
   ],
   "source": [
    "\"\"\"\n",
    "DynamicCase = Dynamic(E=E, I=I, N=N, L=L, \n",
    "                      initial_conditions = {\"ML\":ML, \"M0\":M0, \"a0\":a0, \"aL\":aL, \"q\":10},\n",
    "                      #parameters = {\"ML\":ML, \"M0\":M0, \"a0\":a0, \"aL\":aL, \"q\":4},\n",
    "                      parameters = {\"ML\":ML, \"M0\":M0, \"a0\":0, \"aL\":5, \"q\":0},\n",
    "                      two_sided_support=True)\n",
    "\"\"\"\n",
    "DynamicCase = DynamicSolutionBothEnds(E=E, I=I, N=N, L=L, h=0.05,\n",
    "                                      initial_conditions = {\"ML\":ML, \"M0\":M0, \"a0\":a0, \"aL\":aL, \"q\":0},\n",
    "                                      parameters = {\"ML\":ML, \"M0\":M0, \"a0\":0, \"aL\":0, \"q\":10}\n",
    "                                     )\n",
    "tsteps = 1000\n",
    "\n",
    "h = 0.001\n",
    "\n",
    "DynamicCase.Newmark.h = h\n",
    "DynamicCase.Newmark.run(tsteps)"
   ]
  },
  {
   "cell_type": "raw",
   "metadata": {},
   "source": [
    "# get animations\n",
    "\n",
    "%matplotlib inline\n",
    "\n",
    "from matplotlib import animation, rc\n",
    "from IPython.display import HTML\n",
    "\n",
    "\n",
    "results = DynamicCase.Newmark.results\n",
    "w = results[\"w\"]\n",
    "\n",
    "wmin = np.min(w)\n",
    "wmax = np.max(w)\n",
    "\n",
    "fig, ax = plt.subplots(figsize=(10,10))\n",
    "\n",
    "ax.set_xlim(( 0, L))\n",
    "ax.set_ylim((wmin - 0.05 , wmax + 0.05))\n",
    "#try: ax.set_ylim((np.min(-u[nsteps-1][:-2][::2])-0.5, np.max(u[nsteps-1][:-2][::2])+0.5))\n",
    "#except: ax.set_ylim((np.min(-solution), np.max(solution)))\n",
    "        \n",
    "line, = ax.plot([], [], lw=2)\n",
    "\n",
    "def init():\n",
    "    line.set_data([], [])\n",
    "    return (line,)\n",
    "\n",
    "def animate(i):\n",
    "    line.set_data(nodes, w[i])\n",
    "    return (line,)\n",
    "\n",
    "anim = animation.FuncAnimation(fig, animate, init_func=init,\n",
    "                               frames=tsteps, interval=50, \n",
    "                               blit=True)\n",
    "HTML(anim.to_jshtml())"
   ]
  },
  {
   "cell_type": "code",
   "execution_count": 6,
   "metadata": {},
   "outputs": [],
   "source": [
    "Max_Values = []\n",
    "\n",
    "results = DynamicCase.Newmark.results\n",
    "w = results[\"w\"]\n",
    "wp = results[\"wp\"]\n",
    "wd = results[\"wd\"]\n",
    "\n",
    "u = results[\"u\"]\n",
    "up = results[\"up\"]\n",
    "upp = results[\"upp\"]\n",
    "\n",
    "Me = DynamicCase.Newmark.Me\n",
    "Se = DynamicCase.Newmark.Se\n",
    "rhs = DynamicCase.dynamic_object.RHS_ext"
   ]
  },
  {
   "cell_type": "code",
   "execution_count": 7,
   "metadata": {},
   "outputs": [],
   "source": [
    "def Energy(u, up, M, S, Only_E1=False, Only_E2=False):\n",
    "    \n",
    "    up2 = up @ M\n",
    "    \n",
    "    wd2 = up2[:-2][::2]\n",
    "    wd1 = up[:-2][::2]\n",
    "    \n",
    "    term1 = np.inner(wd2, wd1)\n",
    "    \n",
    "    u2 = u @ S\n",
    "    w2 = u2[:-2][::2]\n",
    "    w1 = u[:-2][::2]\n",
    "    \n",
    "    term2 = np.inner(w2, w1)\n",
    "\n",
    "    if Only_E1:\n",
    "        return term1\n",
    "    \n",
    "    elif Only_E2:\n",
    "        return term2\n",
    "    \n",
    "    else:\n",
    "        return term1 + term2\n",
    "    \n",
    "def ExternalEnergy(u, q):\n",
    "    \n",
    "    w = u[:-2][::2]\n",
    "    q = q[:-2][::2]\n",
    "    \n",
    "    return 2*np.inner(w,q)"
   ]
  },
  {
   "cell_type": "code",
   "execution_count": 8,
   "metadata": {},
   "outputs": [],
   "source": [
    "E1 = []\n",
    "E2 = []\n",
    "E = []\n",
    "\n",
    "Ext = []\n",
    "\n",
    "\n",
    "for i in range(1,np.shape(w)[0]):\n",
    "    \n",
    "    up2 = up[i] @ Me\n",
    "    \n",
    "    wd2 = up2[:-2][::2]\n",
    "    wd1 = up[i][:-2][::2]\n",
    "    \n",
    "    E1.append(np.inner(wd2, wd1))\n",
    "    \n",
    "    u2 = u[i] @ Se\n",
    "    \n",
    "    w2 = u2[:-2][::2]\n",
    "    w1 = u[i][:-2][::2]\n",
    "    \n",
    "    E2.append(np.inner(w2, w1))\n",
    "    \n",
    "    E.append(np.inner(w2, w1) + np.inner(wd2, wd1))\n",
    "    \n",
    "    Ext.append(ExternalEnergy(u[i], rhs))\n",
    "    \n",
    "    "
   ]
  },
  {
   "cell_type": "code",
   "execution_count": 9,
   "metadata": {},
   "outputs": [],
   "source": [
    "E1 = []\n",
    "E2 = []\n",
    "E = []\n",
    "Ext = []\n",
    "\n",
    "for i in range(1,np.shape(w)[0]):\n",
    "    \n",
    "    \n",
    "    E.append(Energy(u[i], up[i], Me, Se))\n",
    "    E1.append(Energy(u[i], up[i], Me, Se, Only_E1=True))\n",
    "    E2.append(Energy(u[i], up[i], Me, Se, Only_E2=True))\n",
    "    Ext.append(ExternalEnergy(u[i], rhs))"
   ]
  },
  {
   "cell_type": "code",
   "execution_count": 10,
   "metadata": {},
   "outputs": [
    {
     "data": {
      "image/png": "[encoded data removed]",
      "text/plain": [
       "<Figure size 460.8x345.6 with 1 Axes>"
      ]
     },
     "metadata": {
      "needs_background": "light"
     },
     "output_type": "display_data"
    }
   ],
   "source": [
    "plt.style.use(\"standard.mplstyle\")\n",
    "plt.plot(h*np.array([i for i in range(np.shape(E)[0])]), E, \"-\", label=r\"$E$\")\n",
    "plt.plot(h*np.array([i for i in range(np.shape(E)[0])]), E1, \"--\", label=r\"$E_k$\")\n",
    "plt.plot(h*np.array([i for i in range(np.shape(E)[0])]), E2, \":\", label=r\"$E_p$\")\n",
    "plt.plot(h*np.array([i for i in range(np.shape(E)[0])]), Ext, \"-.\", label=r\"$E_{ext}$\")\n",
    "plt.legend()\n",
    "plt.title(\"Energy evolution using Newmark Method\")\n",
    "plt.xlabel(r\"$t$\")\n",
    "plt.ylabel(r\"$E$\")\n",
    "plt.legend( prop={\"size\": 18})\n",
    "plt.savefig(\"./Report/Newmark_Energy_Evolution_Load.pdf\")"
   ]
  },
  {
   "cell_type": "code",
   "execution_count": 11,
   "metadata": {},
   "outputs": [],
   "source": [
    "Energies = {}\n",
    "\n",
    "hs = [0.05, 0.01, 0.005, 0.001, 0.0005, 0.0001]\n",
    "\n",
    "tt = 0.5\n",
    "\n",
    "for h in hs:\n",
    "    Energies[h] = []\n",
    "    \n",
    "for h in hs:\n",
    "    \n",
    "    tsteps = int(tt / h)\n",
    "    \n",
    "    DynamicCase = DynamicSolutionBothEnds(E=1, I=1, N=N, L=L, h=h,\n",
    "                                      initial_conditions = {\"ML\":ML, \"M0\":M0, \"a0\":a0, \"aL\":aL, \"q\":10},\n",
    "                                      parameters = {\"ML\":ML, \"M0\":M0, \"a0\":0, \"aL\":0, \"q\":0}\n",
    "                                     )\n",
    "    DynamicCase.Newmark.h = h\n",
    "    DynamicCase.Newmark.run(tsteps)\n",
    "    \n",
    "    results = DynamicCase.Newmark.results\n",
    "    u = results[\"u\"]\n",
    "    up = results[\"up\"]\n",
    "\n",
    "    Me = DynamicCase.Newmark.Me\n",
    "    Se = DynamicCase.Newmark.Se\n",
    "    \n",
    "    for i in range(1,np.shape(u)[0]):\n",
    "\n",
    "        Energies[h].append(Energy(u[i], up[i], Me, Se))\n",
    "\n",
    "        "
   ]
  },
  {
   "cell_type": "code",
   "execution_count": 12,
   "metadata": {},
   "outputs": [
    {
     "data": {
      "image/png": "[encoded data removed]",
      "text/plain": [
       "<Figure size 460.8x345.6 with 1 Axes>"
      ]
     },
     "metadata": {
      "needs_background": "light"
     },
     "output_type": "display_data"
    }
   ],
   "source": [
    "#hs = [0.0001, 0.0005, 0.001]\n",
    "\n",
    "for h in hs:\n",
    "    \n",
    "    plt.plot(h*np.array([i for i in range(int(tt/h))]), Energies[h], label= r\"$h=$\"+ str(h))\n",
    "    \n",
    "plt.legend(loc = \"upper right\", prop={\"size\": 14})\n",
    "\n",
    "plt.xlabel(r\"$t$\")\n",
    "plt.ylabel(r\"$E$\")\n",
    "plt.title(\"Energy evolution using Newmark Method\")\n",
    "plt.savefig(\"./Report/Newmark_Energy_Evolution.pdf\")\n",
    "plt.show()\n"
   ]
  },
  {
   "cell_type": "code",
   "execution_count": 13,
   "metadata": {},
   "outputs": [],
   "source": [
    "Amplitudes = []\n",
    "\n",
    "for h in hs:\n",
    "    \n",
    "    ampl = (np.max(Energies[h]) - np.mean(Energies[h]) ) / np.mean(Energies[h])\n",
    "    \n",
    "    Amplitudes.append(ampl)"
   ]
  },
  {
   "cell_type": "code",
   "execution_count": 14,
   "metadata": {},
   "outputs": [
    {
     "name": "stdout",
     "output_type": "stream",
     "text": [
      "[7.467517057468035e-09, 9.013204567416711e-07, 3.947276118651671e-06, 1.9856904729687832e-05, 3.999079079832268e-05, 0.00016500988067238133]\n"
     ]
    }
   ],
   "source": [
    "print(Amplitudes)"
   ]
  },
  {
   "cell_type": "code",
   "execution_count": 15,
   "metadata": {},
   "outputs": [
    {
     "data": {
      "image/png": "[encoded data removed]",
      "text/plain": [
       "<Figure size 460.8x345.6 with 1 Axes>"
      ]
     },
     "metadata": {
      "needs_background": "light"
     },
     "output_type": "display_data"
    }
   ],
   "source": [
    "plt.style.use(\"standard.mplstyle\")\n",
    "plt.loglog(hs, Amplitudes, \"-s\")\n",
    "plt.title(\"Relative Energy oscillations for the Newmark method\")\n",
    "plt.xlabel(r\"$h$\")\n",
    "plt.ylabel(r\"$\\frac{|E_{max} - \\langle E \\rangle|}{ \\langle E \\rangle}$\")\n",
    "plt.savefig(\"./Report/EnergyOscillations.pdf\")"
   ]
  },
  {
   "cell_type": "raw",
   "metadata": {},
   "source": [
    "# get animations\n",
    "\n",
    "%matplotlib inline\n",
    "\n",
    "from matplotlib import animation, rc\n",
    "from IPython.display import HTML\n",
    "\n",
    "\n",
    "results = DynamicCase.Newmark.results\n",
    "w = results[\"w\"]\n",
    "\n",
    "wmin = np.min(w)\n",
    "wmax = np.max(w)\n",
    "\n",
    "fig, ax = plt.subplots(figsize=(10,10))\n",
    "\n",
    "ax.set_xlim(( 0, L))\n",
    "ax.set_ylim((wmin - 0.05 , wmax + 0.05))\n",
    "#try: ax.set_ylim((np.min(-u[nsteps-1][:-2][::2])-0.5, np.max(u[nsteps-1][:-2][::2])+0.5))\n",
    "#except: ax.set_ylim((np.min(-solution), np.max(solution)))\n",
    "        \n",
    "line, = ax.plot([], [], lw=2)\n",
    "\n",
    "def init():\n",
    "    line.set_data([], [])\n",
    "    return (line,)\n",
    "\n",
    "def animate(i):\n",
    "    line.set_data(nodes, w[i])\n",
    "    return (line,)\n",
    "\n",
    "anim = animation.FuncAnimation(fig, animate, init_func=init,\n",
    "                               frames=tsteps, interval=50, \n",
    "                               blit=True)\n",
    "HTML(anim.to_jshtml())"
   ]
  }
 ],
 "metadata": {
  "kernelspec": {
   "display_name": "Python 3 (ipykernel)",
   "language": "python",
   "name": "python3"
  },
  "language_info": {
   "codemirror_mode": {
    "name": "ipython",
    "version": 3
   },
   "file_extension": ".py",
   "mimetype": "text/x-python",
   "name": "python",
   "nbconvert_exporter": "python",
   "pygments_lexer": "ipython3",
   "version": "3.8.8"
  }
 },
 "nbformat": 4,
 "nbformat_minor": 4
}
