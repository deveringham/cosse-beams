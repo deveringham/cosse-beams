{
 "cells": [
  {
   "cell_type": "markdown",
   "metadata": {},
   "source": [
    "# An Analysis of Vibrating Euler-Bernoulli Beams\n",
    "### using Finite Element, Newmark and Eigenvalue Methods\n",
    "Dylan Everingham, Sebastian Myrbäck, Sergi Andreu, Carsten van de Kamp\n",
    "September 2021\n",
    "\n",
    "nb_NewmarkMethod.ipynb\n",
    "\n",
    "This notebook generates an animation of the dynamic case solutio, and plots examining the energy evolution of the system, both found with the Newmark method."
   ]
  },
  {
   "cell_type": "markdown",
   "metadata": {},
   "source": [
    "## Dependencies"
   ]
  },
  {
   "cell_type": "code",
   "execution_count": 1,
   "metadata": {},
   "outputs": [],
   "source": [
    "import numpy as np\n",
    "import matplotlib.pyplot as plt\n",
    "\n",
    "from scipy.sparse.linalg import spsolve\n",
    "import matplotlib.pyplot as plt\n",
    "import numpy as np\n",
    "\n",
    "from meshes import *\n",
    "\n",
    "from NumericalSolutions import *\n",
    "from DynamicSolutions import *\n",
    "\n",
    "plt.style.use(\"standard.mplstyle\")"
   ]
  },
  {
   "cell_type": "markdown",
   "metadata": {},
   "source": [
    "## Mesh Generation"
   ]
  },
  {
   "cell_type": "code",
   "execution_count": 2,
   "metadata": {},
   "outputs": [
    {
     "data": {
      "image/png": "[encoded data removed]",
      "text/plain": [
       "<Figure size 432x36 with 1 Axes>"
      ]
     },
     "metadata": {
      "needs_background": "light"
     },
     "output_type": "display_data"
    }
   ],
   "source": [
    "# Spatial resolution of mesh\n",
    "N = 25\n",
    "\n",
    "# Right limit of mesh\n",
    "L = 1\n",
    "\n",
    "# Generate 1D mesh\n",
    "[nodes, elems, faces] = get_mesh_1D(N, [0,L], True);"
   ]
  },
  {
   "cell_type": "code",
   "execution_count": 3,
   "metadata": {},
   "outputs": [],
   "source": [
    "# Problem parameters\n",
    "E = 1\n",
    "I = 1\n",
    "mu = 1\n",
    "M0 = 0\n",
    "ML = 0\n",
    "QL = 0\n",
    "a0 = 0\n",
    "aL = 0\n",
    "a = 0\n",
    "b = 0\n",
    "q = 1\n",
    "two_sided_support = True \n",
    "\n",
    "if two_sided_support:\n",
    "    boundary_conditions = {'M0': M0, 'ML': ML, 'a0': a0, 'aL': aL}\n",
    "else:\n",
    "    boundary_conditions = {'QL': QL, 'ML': ML, 'a': a, 'b': b}"
   ]
  },
  {
   "cell_type": "markdown",
   "metadata": {},
   "source": [
    "## Dynamic Case Animation"
   ]
  },
  {
   "cell_type": "code",
   "execution_count": 4,
   "metadata": {},
   "outputs": [],
   "source": [
    "# Generate dynamic solution\n",
    "tsteps = 500\n",
    "h = 0.001\n",
    "DynamicCase = DynamicSolutionBothEnds(E=E, I=I, N=N, L=L, h=h,\n",
    "                                      initial_conditions = {\"ML\":ML, \"M0\":M0, \"a0\":a0, \"aL\":aL, \"q\":0},\n",
    "                                      parameters = {\"ML\":ML, \"M0\":M0, \"a0\":0, \"aL\":0, \"q\":10})\n",
    "DynamicCase.Newmark.run(tsteps);"
   ]
  },
  {
   "cell_type": "code",
   "execution_count": 5,
   "metadata": {},
   "outputs": [],
   "source": [
    "%%capture\n",
    "%matplotlib inline\n",
    "\n",
    "from matplotlib import animation, rc\n",
    "from IPython.display import HTML\n",
    "\n",
    "results = DynamicCase.Newmark.results\n",
    "w = results[\"w\"]\n",
    "\n",
    "wmin = np.min(w)\n",
    "wmax = np.max(w)\n",
    "\n",
    "fig, ax = plt.subplots(figsize=(10,10))\n",
    "\n",
    "ax.set_xlim(( 0, L))\n",
    "ax.set_ylim((wmin - 0.05 , wmax + 0.05))\n",
    "ax.set_ylabel(r\"$w(x)$\")\n",
    "ax.set_xlabel(r\"Domain $\\Omega$\")\n",
    "plt.title('Moment, Fixed at Both Ends, Dynamic Case')\n",
    "        \n",
    "line, = ax.plot([], [], lw=2)\n",
    "\n",
    "def init():\n",
    "    line.set_data([], [])\n",
    "    return (line,)\n",
    "\n",
    "def animate(i):\n",
    "    line.set_data(nodes, w[i])\n",
    "    return (line,)\n",
    "\n",
    "anim = animation.FuncAnimation(fig, animate, init_func=init,\n",
    "                               frames=tsteps, interval=50, \n",
    "                               blit=True)\n",
    "\n",
    "dpi = 200\n",
    "writer = animation.writers['ffmpeg'](fps=20)\n",
    "anim.save('./Report/dynamic.mp4',writer=writer,dpi=dpi)"
   ]
  },
  {
   "cell_type": "code",
   "execution_count": null,
   "metadata": {},
   "outputs": [],
   "source": [
    "HTML(anim.to_jshtml())"
   ]
  },
  {
   "cell_type": "markdown",
   "metadata": {},
   "source": [
    "## Helper Functions for Energy Plot"
   ]
  },
  {
   "cell_type": "code",
   "execution_count": null,
   "metadata": {},
   "outputs": [],
   "source": [
    "def Energy(u, up, M, S, Only_E1=False, Only_E2=False):\n",
    "    \n",
    "    up2 = up @ M\n",
    "    wd2 = up2[:-2][::2]\n",
    "    wd1 = up[:-2][::2]\n",
    "    term1 = np.inner(wd2, wd1)\n",
    "    \n",
    "    u2 = u @ S\n",
    "    w2 = u2[:-2][::2]\n",
    "    w1 = u[:-2][::2]\n",
    "    term2 = np.inner(w2, w1)\n",
    "\n",
    "    if Only_E1:\n",
    "        return term1\n",
    "    elif Only_E2:\n",
    "        return term2\n",
    "    else:\n",
    "        return term1 + term2\n",
    "    \n",
    "def ExternalEnergy(u, q):\n",
    "    \n",
    "    w = u[:-2][::2]\n",
    "    q = q[:-2][::2]\n",
    "    \n",
    "    return 2*np.inner(w,q)"
   ]
  },
  {
   "cell_type": "markdown",
   "metadata": {},
   "source": [
    "## Energy Evolution Plot"
   ]
  },
  {
   "cell_type": "code",
   "execution_count": null,
   "metadata": {},
   "outputs": [],
   "source": [
    "# Generate dynamic solution\n",
    "tsteps = 5000\n",
    "h = 0.001\n",
    "DynamicCase = DynamicSolutionBothEnds(E=E, I=I, N=N, L=L, h=h,\n",
    "                                      initial_conditions = {\"ML\":ML, \"M0\":M0, \"a0\":a0, \"aL\":aL, \"q\":0},\n",
    "                                      parameters = {\"ML\":ML, \"M0\":M0, \"a0\":0, \"aL\":0, \"q\":10})\n",
    "DynamicCase.Newmark.run(tsteps)\n",
    "\n",
    "results = DynamicCase.Newmark.results\n",
    "w = results[\"w\"]\n",
    "wp = results[\"wp\"]\n",
    "wd = results[\"wd\"]\n",
    "\n",
    "u = results[\"u\"]\n",
    "up = results[\"up\"]\n",
    "upp = results[\"upp\"]\n",
    "\n",
    "Me = DynamicCase.Newmark.Me\n",
    "Se = DynamicCase.Newmark.Se\n",
    "rhs = DynamicCase.dynamic_object.RHS_ext\n",
    "\n",
    "E1 = []\n",
    "E2 = []\n",
    "E = []\n",
    "Ext = []\n",
    "\n",
    "for i in range(1,np.shape(w)[0]):\n",
    "    E.append(Energy(u[i], up[i], Me, Se))\n",
    "    E1.append(Energy(u[i], up[i], Me, Se, Only_E1=True))\n",
    "    E2.append(Energy(u[i], up[i], Me, Se, Only_E2=True))\n",
    "    Ext.append(ExternalEnergy(u[i], rhs))"
   ]
  },
  {
   "cell_type": "code",
   "execution_count": null,
   "metadata": {},
   "outputs": [],
   "source": [
    "plt.plot(h*np.array([i for i in range(np.shape(E)[0])]), E, label=\"E\")\n",
    "plt.plot(h*np.array([i for i in range(np.shape(E)[0])]), E1, label=\"E1\")\n",
    "plt.plot(h*np.array([i for i in range(np.shape(E)[0])]), E2, label=\"E2\")\n",
    "plt.plot(h*np.array([i for i in range(np.shape(E)[0])]), Ext, label=\"Ext\")\n",
    "plt.legend()\n",
    "plt.title(\"Energy evolution using Newmark Method\")\n",
    "plt.show()"
   ]
  }
 ],
 "metadata": {
  "kernelspec": {
   "display_name": "Python 3",
   "language": "python",
   "name": "python3"
  },
  "language_info": {
   "codemirror_mode": {
    "name": "ipython",
    "version": 3
   },
   "file_extension": ".py",
   "mimetype": "text/x-python",
   "name": "python",
   "nbconvert_exporter": "python",
   "pygments_lexer": "ipython3",
   "version": "3.8.8"
  }
 },
 "nbformat": 4,
 "nbformat_minor": 4
}
