{
 "cells": [
  {
   "cell_type": "markdown",
   "metadata": {},
   "source": [
    "# Project Numerical Analysis: 'Beams and Frameworks of Beams'"
   ]
  },
  {
   "cell_type": "markdown",
   "metadata": {},
   "source": [
    "## Dependencies"
   ]
  },
  {
   "cell_type": "code",
   "execution_count": null,
   "metadata": {},
   "outputs": [],
   "source": [
    "from meshes import *\n",
    "from NumericalSolutions import *\n",
    "from AnalyticalSolutions import *\n",
    "from get_S import get_extended_q_vector, get_extended_S\n",
    "\n",
    "from scipy.sparse.linalg import spsolve\n",
    "import matplotlib.pyplot as plt\n",
    "import numpy as np\n",
    "\n",
    "\n",
    "\"\"\"\n",
    "For the widgets to show up, do the following in the anaconda prompt:\n",
    "\n",
    "conda install -c conda-forge ipywidgets\n",
    "jupyter labextension install @jupyter-widgets/jupyterlab-manager\n",
    "\"\"\"\n",
    "import ipywidgets as widgets\n",
    "from IPython.display import display\n",
    "from ipywidgets import interact, interactive, fixed, interact_manual\n"
   ]
  },
  {
   "cell_type": "markdown",
   "metadata": {},
   "source": [
    "## Generate Mesh"
   ]
  },
  {
   "cell_type": "code",
   "execution_count": null,
   "metadata": {
    "scrolled": true
   },
   "outputs": [],
   "source": [
    "# Spatial resolution of mesh\n",
    "N = 25\n",
    "\n",
    "# Right limit of mesh\n",
    "L = 1\n",
    "\n",
    "# Generate 1D mesh\n",
    "[nodes, elems, faces] = get_mesh_1D(N, [0,L], True);"
   ]
  },
  {
   "cell_type": "markdown",
   "metadata": {},
   "source": [
    "## Helper Functions"
   ]
  },
  {
   "cell_type": "code",
   "execution_count": null,
   "metadata": {},
   "outputs": [],
   "source": [
    "def get_both(E=1,I=1,q=0,q1=0,q2=0,q3=0,q4=0,QL=0,M0=0,ML=0,a=0,b=0,a0=0,aL=0,two_sided_support=False):\n",
    "    \n",
    "    if two_sided_support:\n",
    "        \n",
    "        # Do analytical solution\n",
    "        sol_ana = BothEnds(a0=a0, M0=M0, aL=aL, ML=ML, case=\"constant\", c=q, E=E, I=I, L=L)\n",
    "        w_ana, wp_ana = sol_ana.get_solution(), sol_ana.get_solution_prime()\n",
    "        \n",
    "        # Do numerical solution\n",
    "        #sol_num = NumericalSolution(a=a, b=b, QL=QL, ML=ML, M0=M0, a0=a0, aL=aL, E=E, I=I, N=N, L=L, q=q, two_sided_support=True)\n",
    "        sol_num = NumericalSolutionBothEnds(ML=ML, M0=M0, a0=a0, aL=aL, E=E, I=I, N=N, L=L, q=q)\n",
    "        w_num, wp_num = sol_num.solve()\n",
    "\n",
    "    else:\n",
    "        \n",
    "        # Do analytical solution\n",
    "        sol_ana = Cantilever(a=a, b=b, QL=QL, ML=ML, case=\"constant\", E=E, I=I, c=q, L=L)\n",
    "        w_ana, wp_ana = sol_ana.get_solution(), sol_ana.get_solution_prime()\n",
    "        \n",
    "        # Do numerical solution\n",
    "        #sol_num = NumericalSolution(a=a, b=b, QL=QL, ML=ML, M0=M0, a0=a0, aL=aL, E=E, I=I, N=N, L=L, q=q, two_sided_support=False)\n",
    "        sol_num = NumericalSolutionCantiliver(a=a, b=b, QL=QL, ML=ML, E=E, I=I, N=N, L=L, q=q)\n",
    "        w_num, wp_num = sol_num.solve()\n",
    "        \n",
    "    return w_ana, wp_ana, w_num, wp_num"
   ]
  },
  {
   "cell_type": "markdown",
   "metadata": {},
   "source": [
    "## W vs QL"
   ]
  },
  {
   "cell_type": "code",
   "execution_count": null,
   "metadata": {},
   "outputs": [],
   "source": [
    "### PLOT w FOR q=0 AND DIFFERENT QL's (point loads)\n",
    "\n",
    "QLlist = range(5)\n",
    "\n",
    "plt.figure(figsize=(12, 6), dpi=200)\n",
    "for Q in QLlist:    \n",
    "    \n",
    "    w_ana, wp_ana, w_fem, wp_fem = get_both(QL=Q)\n",
    "    plt.plot(nodes,w_fem,'o',label=r'numerical solution for $Q^L=$ %i' % Q)\n",
    "    plt.plot(nodes,w_ana(nodes),label='analytical solution')\n",
    "    plt.legend(prop={'size': 14})\n",
    "    plt.ylabel(\"w(x)\",size=16)\n",
    "    plt.xlabel(\"x\",size=16)"
   ]
  },
  {
   "cell_type": "markdown",
   "metadata": {},
   "source": [
    "## W' vs QL"
   ]
  },
  {
   "cell_type": "code",
   "execution_count": null,
   "metadata": {},
   "outputs": [],
   "source": [
    "### PLOT w' FOR q=0 AND DIFFERENT QL's (point loads)\n",
    "\n",
    "QLlist = range(5)\n",
    "\n",
    "plt.figure(figsize=(12, 6), dpi=200)\n",
    "for Q in QLlist:    \n",
    "    \n",
    "    w_ana, wp_ana, w_fem, wp_fem = get_both(QL=Q)\n",
    "    plt.plot(nodes,wp_fem,'o',label=r'numerical solution for $Q^L=$ %i' % Q)\n",
    "    plt.plot(nodes,wp_ana(nodes), label='analytical solution')\n",
    "    plt.legend(prop={'size': 12})\n",
    "    plt.ylabel(\"w'(x)\",size=16)\n",
    "    plt.xlabel(\"x\",size=16)"
   ]
  },
  {
   "cell_type": "markdown",
   "metadata": {},
   "source": [
    "## W vs q"
   ]
  },
  {
   "cell_type": "code",
   "execution_count": null,
   "metadata": {},
   "outputs": [],
   "source": [
    "### PLOT w FOR DIFFERENT CONSTANT q's \n",
    "\n",
    "qlist = range(5)\n",
    "\n",
    "plt.figure(figsize=(12, 6), dpi=200)\n",
    "for q in qlist:    \n",
    "    \n",
    "    w_ana, wp_ana, w_fem, wp_fem = get_both(q=q,q1=lambda x: q*x, q2=lambda x: q*x**2/2, q3=lambda x: q*x**3/6, q4=lambda x: q*x**4/24)\n",
    "    plt.plot(nodes,w_fem,'o',label=r'numerical solution for $q(x)=$ %i' % q)\n",
    "    plt.plot(nodes,w_ana(nodes),label='analytical solution')\n",
    "    plt.legend(prop={'size': 12})\n",
    "    plt.ylabel(\"w(x)\",size=16)\n",
    "    plt.xlabel(\"x\",size=16)"
   ]
  },
  {
   "cell_type": "markdown",
   "metadata": {},
   "source": [
    "## W' vs q"
   ]
  },
  {
   "cell_type": "code",
   "execution_count": null,
   "metadata": {},
   "outputs": [],
   "source": [
    "### PLOT w' FOR DIFFERENT CONSTANT q's \n",
    "\n",
    "qlist = range(5)\n",
    "\n",
    "plt.figure(figsize=(12, 6), dpi=200)\n",
    "for q in qlist:    \n",
    "    \n",
    "    w_ana, wp_ana, w_fem, wp_fem = get_both(q=q,q1=lambda x: q*x, q2=lambda x: q*x**2/2, q3=lambda x: q*x**3/6, q4=lambda x: q*x**4/24)\n",
    "    plt.plot(nodes,wp_fem,'o',label=r'numerical solution for $q(x)=$ %i' % q)\n",
    "    plt.plot(nodes,wp_ana(nodes),label='analytical solution')\n",
    "    plt.legend(prop={'size': 12})\n",
    "    plt.ylabel(\"w'(x)\",size=16)\n",
    "    plt.xlabel(\"x\",size=16)"
   ]
  },
  {
   "cell_type": "markdown",
   "metadata": {},
   "source": [
    "## W vs q, Supported at Both Ends"
   ]
  },
  {
   "cell_type": "code",
   "execution_count": null,
   "metadata": {},
   "outputs": [],
   "source": [
    "### PLOT w FOR DIFFERENT CONSTANT q's WITH SUPPORT AT BOTH ENDS\n",
    "\n",
    "qlist = range(5)\n",
    "\n",
    "plt.figure(figsize=(12, 6), dpi=200)\n",
    "for q in qlist:    \n",
    "    \n",
    "    w_ana, wp_ana, w_fem, wp_fem = get_both(q=q, q1=lambda x: q*x, q2=lambda x: q*x**2/2, q3=lambda x: q*x**3/6, q4=lambda x: q*x**4/24, two_sided_support=True)\n",
    "    plt.plot(nodes,w_fem,'o',label=r'numerical solution for $q(x)=$ %i' % q)\n",
    "    plt.plot(nodes,w_ana(nodes),label='analytical solution')\n",
    "    plt.legend(prop={'size': 11})\n",
    "    plt.ylabel(\"w(x)\",size=16)\n",
    "    plt.xlabel(\"x\",size=16)"
   ]
  },
  {
   "cell_type": "markdown",
   "metadata": {},
   "source": [
    "## W' vs q, Supported at Both Ends"
   ]
  },
  {
   "cell_type": "code",
   "execution_count": null,
   "metadata": {},
   "outputs": [],
   "source": [
    "### PLOT w FOR DIFFERENT CONSTANT q's WITH SUPPORT AT BOTH ENDS derivative\n",
    "\n",
    "qlist = range(5)\n",
    "\n",
    "plt.figure(figsize=(12, 6), dpi=200)\n",
    "for q in qlist:    \n",
    "    \n",
    "    w_ana, wp_ana, w_fem, wp_fem = get_both(q=q, q1=lambda x: q*x, q2=lambda x: q*x**2/2, q3=lambda x: q*x**3/6, q4=lambda x: q*x**4/24, two_sided_support=True)\n",
    "    plt.plot(nodes,wp_fem,'o',label=r'numerical solution for $q(x)=$ %i' % q)\n",
    "    plt.plot(nodes,wp_ana(nodes),label='analytical solution')\n",
    "    plt.legend(prop={'size': 11})\n",
    "    plt.ylabel(\"w'(x)\",size=16)\n",
    "    plt.xlabel(\"x\",size=16)"
   ]
  },
  {
   "cell_type": "markdown",
   "metadata": {},
   "source": [
    "## Interactive Analytical Solution Plots\n",
    "### Supported on One End"
   ]
  },
  {
   "cell_type": "code",
   "execution_count": null,
   "metadata": {
    "scrolled": true
   },
   "outputs": [],
   "source": [
    "xx = np.linspace(0,L,N)\n",
    "\n",
    "def f(a, b, QL, ML, x0, Load, LoadConstant):\n",
    "    ex = Cantilever(a=a, b=b, QL=QL, ML=ML, x0=x0, case=Load, L=L, c=LoadConstant, q=lambda x:x)\n",
    "    ex.c = LoadConstant\n",
    "    sol =  ex.get_solution_list(xx)\n",
    "    plt.plot(xx, sol)\n",
    "\n",
    "interact(f, a=(-20.0,20.0), b=(-5.0,5.0), QL=(-2.0,2.0), ML=(-2.0,2.0), x0=(0.0, 5.0), Load=[\"constant\", \"delta\", \"arbitrary function\"], LoadConstant = (-15.0,15.0))\n",
    "plt.show()"
   ]
  },
  {
   "cell_type": "markdown",
   "metadata": {},
   "source": [
    "### Supported on Both Ends"
   ]
  },
  {
   "cell_type": "code",
   "execution_count": null,
   "metadata": {},
   "outputs": [],
   "source": [
    "xx = np.linspace(0,L,N)\n",
    "\n",
    "def g(A1, B1, A2, B2, x0, Load, LoadConstant):\n",
    "    ex = BothEnds(a0=A1, aL=B1, M0=A2, ML=B2, x0=x0, case=Load, L=L, c=LoadConstant, q=lambda x:x)\n",
    "    sol =  ex.get_solution_list(xx)\n",
    "    plt.plot(xx, sol)\n",
    "\n",
    "interact(g, A1=(-20.0,20.0), B1=(-20.0,20.0), A2=(-20.0,20.0), B2=(-20.0,20.0), x0=(0.0, 5.0), Load=[\"constant\", \"delta\", \"arbitrary function\"], LoadConstant = (-15.0,15.0))\n",
    "plt.show()"
   ]
  },
  {
   "cell_type": "code",
   "execution_count": null,
   "metadata": {},
   "outputs": [],
   "source": []
  }
 ],
 "metadata": {
  "@webio": {
   "lastCommId": null,
   "lastKernelId": null
  },
  "kernelspec": {
   "display_name": "Python 3",
   "language": "python",
   "name": "python3"
  },
  "language_info": {
   "codemirror_mode": {
    "name": "ipython",
    "version": 3
   },
   "file_extension": ".py",
   "mimetype": "text/x-python",
   "name": "python",
   "nbconvert_exporter": "python",
   "pygments_lexer": "ipython3",
   "version": "3.7.1"
  }
 },
 "nbformat": 4,
 "nbformat_minor": 4
}
